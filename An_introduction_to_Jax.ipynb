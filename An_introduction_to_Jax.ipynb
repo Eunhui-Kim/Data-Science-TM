{
  "nbformat": 4,
  "nbformat_minor": 0,
  "metadata": {
    "colab": {
      "provenance": [],
      "include_colab_link": true
    },
    "kernelspec": {
      "name": "python3",
      "display_name": "Python 3"
    },
    "language_info": {
      "name": "python"
    },
    "gpuClass": "standard"
  },
  "cells": [
    {
      "cell_type": "markdown",
      "metadata": {
        "id": "view-in-github",
        "colab_type": "text"
      },
      "source": [
        "<a href=\"https://colab.research.google.com/github/Eunhui-Kim/Data-Science-TM/blob/master/An_introduction_to_Jax.ipynb\" target=\"_parent\"><img src=\"https://colab.research.google.com/assets/colab-badge.svg\" alt=\"Open In Colab\"/></a>"
      ]
    },
    {
      "cell_type": "markdown",
      "source": [
        "# An introduction to Jax\n",
        "\n",
        "In this workshop, we're going to run through an introduction to Jax - and some of the recent features. \n",
        "\n",
        "In short - Jax is accelerated, differentiable, and trivially parallelisable numpy.\n",
        "\n",
        "Just-in-time (JIT) XLA compilation makes it natively fast without having to write custom kernels to fuse your code. Native parallelism means that the same code runs on anywhere from 1 to thousands of devices, and all you need to do is define the partitioning patterns - no frameworks necessary.\n",
        "\n",
        "To really squeeze out peformance, if you'd like to optimise even further, you can define the exact collective operations occuring by working on a per device level within any given function, or by writing custom kernels with Jax-Triton.\n",
        "\n",
        "We're going to start with an illustrative example, then build back up to that by learning all the core pieces.\n",
        "\n",
        "Note that this colab runs on CPU so that we can spoof multiple devices and show case the parallelism APIs without needing to spin up GPU/TPUs. \n",
        "\n"
      ],
      "metadata": {
        "id": "ddYtW_neS8MB"
      }
    },
    {
      "cell_type": "code",
      "source": [
        "# @title Installs: install and restarts, don't run the second time!\n",
        "%pip install --upgrade matplotlib -q\n",
        "%pip install rich -q\n",
        "from google.colab import runtime\n",
        "quit()"
      ],
      "metadata": {
        "colab": {
          "base_uri": "https://localhost:8080/"
        },
        "cellView": "form",
        "id": "XX02kYCRDvCo",
        "outputId": "c80de77c-faee-46a5-93d8-6bdcedf19333"
      },
      "execution_count": null,
      "outputs": [
        {
          "output_type": "stream",
          "name": "stdout",
          "text": [
            "\u001b[K     |████████████████████████████████| 11.2 MB 4.8 MB/s \n",
            "\u001b[K     |████████████████████████████████| 965 kB 47.3 MB/s \n",
            "\u001b[K     |████████████████████████████████| 237 kB 5.3 MB/s \n",
            "\u001b[K     |████████████████████████████████| 51 kB 5.7 MB/s \n",
            "\u001b[?25h"
          ]
        }
      ]
    },
    {
      "cell_type": "code",
      "source": [
        "import os\n",
        "\n",
        "import functools\n",
        "from typing import Optional\n",
        "\n",
        "import numpy as np\n",
        "\n",
        "import jax\n",
        "import jax.numpy as jnp\n",
        "import matplotlib.cm\n",
        "jax.config.update('jax_array', True) # A new parallelism supporting feature!\n",
        "from jax.experimental import maps\n",
        "from jax.experimental import PartitionSpec as P\n",
        "from jax.experimental import mesh_utils\n",
        "from jax.sharding import NamedSharding"
      ],
      "metadata": {
        "id": "WdygOlLXIol_"
      },
      "execution_count": 1,
      "outputs": []
    },
    {
      "cell_type": "code",
      "source": [
        "# @title Spoof multiple devices\n",
        "import re\n",
        "def set_host_device_count(n):\n",
        "  xla_flags = os.getenv('XLA_FLAGS', '')\n",
        "  xla_flags = re.sub(\n",
        "      r'--xla_force_host_platform_device_count=\\S+', '', xla_flags\n",
        "  ).split()\n",
        "  os.environ['XLA_FLAGS'] = ' '.join(\n",
        "      ['--xla_force_host_platform_device_count={}'.format(n)] + xla_flags\n",
        "  )\n",
        "set_host_device_count(8)\n",
        "devices = jax.devices()\n",
        "print(f\"Spoof {len(devices)} devices: {devices}\")"
      ],
      "metadata": {
        "colab": {
          "base_uri": "https://localhost:8080/"
        },
        "cellView": "form",
        "id": "jTugdAshIojp",
        "outputId": "3b171775-c34d-411e-b317-53c01f1b1896"
      },
      "execution_count": null,
      "outputs": [
        {
          "output_type": "stream",
          "name": "stderr",
          "text": [
            "WARNING:jax._src.lib.xla_bridge:No GPU/TPU found, falling back to CPU. (Set TF_CPP_MIN_LOG_LEVEL=0 and rerun for more info.)\n"
          ]
        },
        {
          "output_type": "stream",
          "name": "stdout",
          "text": [
            "Spoof 8 devices: [CpuDevice(id=0), CpuDevice(id=1), CpuDevice(id=2), CpuDevice(id=3), CpuDevice(id=4), CpuDevice(id=5), CpuDevice(id=6), CpuDevice(id=7)]\n"
          ]
        }
      ]
    },
    {
      "cell_type": "markdown",
      "source": [
        "# 1. Motivating example - a simple model and data parallel MLP"
      ],
      "metadata": {
        "id": "2UWe2W32d7Rh"
      }
    },
    {
      "cell_type": "code",
      "source": [
        "# Order our devices to respect our desired topology\n",
        "# this is important on TPUs to ensure hops are efficient\n",
        "devices = mesh_utils.create_device_mesh((4, 2))\n",
        "# create a mesh from our 8 devices and name both axes this can\n",
        "# be multi-dimensional, and extend to arbitary numbers of devices\n",
        "mesh = maps.Mesh(devices, axis_names=('x', 'y'))"
      ],
      "metadata": {
        "id": "vq9EInDpgS_8",
        "outputId": "227eadf8-5daa-40db-96cc-ea8561b65ff6",
        "colab": {
          "base_uri": "https://localhost:8080/",
          "height": 397
        }
      },
      "execution_count": 2,
      "outputs": [
        {
          "output_type": "stream",
          "name": "stderr",
          "text": [
            "WARNING:jax._src.lib.xla_bridge:No GPU/TPU found, falling back to CPU. (Set TF_CPP_MIN_LOG_LEVEL=0 and rerun for more info.)\n"
          ]
        },
        {
          "output_type": "error",
          "ename": "ValueError",
          "evalue": "ignored",
          "traceback": [
            "\u001b[0;31m---------------------------------------------------------------------------\u001b[0m",
            "\u001b[0;31mValueError\u001b[0m                                Traceback (most recent call last)",
            "\u001b[0;32m<ipython-input-2-f404ae9f43ce>\u001b[0m in \u001b[0;36m<module>\u001b[0;34m\u001b[0m\n\u001b[1;32m      1\u001b[0m \u001b[0;31m# Order our devices to respect our desired topology\u001b[0m\u001b[0;34m\u001b[0m\u001b[0;34m\u001b[0m\u001b[0;34m\u001b[0m\u001b[0m\n\u001b[1;32m      2\u001b[0m \u001b[0;31m# this is important on TPUs to ensure hops are efficient\u001b[0m\u001b[0;34m\u001b[0m\u001b[0;34m\u001b[0m\u001b[0;34m\u001b[0m\u001b[0m\n\u001b[0;32m----> 3\u001b[0;31m \u001b[0mdevices\u001b[0m \u001b[0;34m=\u001b[0m \u001b[0mmesh_utils\u001b[0m\u001b[0;34m.\u001b[0m\u001b[0mcreate_device_mesh\u001b[0m\u001b[0;34m(\u001b[0m\u001b[0;34m(\u001b[0m\u001b[0;36m4\u001b[0m\u001b[0;34m,\u001b[0m \u001b[0;36m2\u001b[0m\u001b[0;34m)\u001b[0m\u001b[0;34m)\u001b[0m\u001b[0;34m\u001b[0m\u001b[0;34m\u001b[0m\u001b[0m\n\u001b[0m\u001b[1;32m      4\u001b[0m \u001b[0;31m# create a mesh from our 8 devices and name both axes this can\u001b[0m\u001b[0;34m\u001b[0m\u001b[0;34m\u001b[0m\u001b[0;34m\u001b[0m\u001b[0m\n\u001b[1;32m      5\u001b[0m \u001b[0;31m# be multi-dimensional, and extend to arbitary numbers of devices\u001b[0m\u001b[0;34m\u001b[0m\u001b[0;34m\u001b[0m\u001b[0;34m\u001b[0m\u001b[0m\n",
            "\u001b[0;32m/usr/local/lib/python3.7/dist-packages/jax/experimental/mesh_utils.py\u001b[0m in \u001b[0;36mcreate_device_mesh\u001b[0;34m(mesh_shape, devices, contiguous_submeshes)\u001b[0m\n\u001b[1;32m    246\u001b[0m     \u001b[0mdevices\u001b[0m \u001b[0;34m=\u001b[0m \u001b[0mjax\u001b[0m\u001b[0;34m.\u001b[0m\u001b[0mdevices\u001b[0m\u001b[0;34m(\u001b[0m\u001b[0;34m)\u001b[0m\u001b[0;34m\u001b[0m\u001b[0;34m\u001b[0m\u001b[0m\n\u001b[1;32m    247\u001b[0m   \u001b[0;32mif\u001b[0m \u001b[0mnp\u001b[0m\u001b[0;34m.\u001b[0m\u001b[0mprod\u001b[0m\u001b[0;34m(\u001b[0m\u001b[0mmesh_shape\u001b[0m\u001b[0;34m)\u001b[0m \u001b[0;34m!=\u001b[0m \u001b[0mlen\u001b[0m\u001b[0;34m(\u001b[0m\u001b[0mdevices\u001b[0m\u001b[0;34m)\u001b[0m\u001b[0;34m:\u001b[0m\u001b[0;34m\u001b[0m\u001b[0;34m\u001b[0m\u001b[0m\n\u001b[0;32m--> 248\u001b[0;31m     raise ValueError(f'Number of devices {len(devices)} must equal the product '\n\u001b[0m\u001b[1;32m    249\u001b[0m                      f'of mesh_shape {mesh_shape}')\n\u001b[1;32m    250\u001b[0m   \u001b[0mlast_device\u001b[0m \u001b[0;34m=\u001b[0m \u001b[0mdevices\u001b[0m\u001b[0;34m[\u001b[0m\u001b[0;34m-\u001b[0m\u001b[0;36m1\u001b[0m\u001b[0;34m]\u001b[0m\u001b[0;34m\u001b[0m\u001b[0;34m\u001b[0m\u001b[0m\n",
            "\u001b[0;31mValueError\u001b[0m: Number of devices 1 must equal the product of mesh_shape (4, 2)"
          ]
        }
      ]
    },
    {
      "cell_type": "code",
      "source": [
        "def predict(params, inputs):\n",
        "  \"\"\"Performs a forward pass through the model.\"\"\"\n",
        "  # Same API as numpy\n",
        "  for W, b in params:\n",
        "    outputs = jnp.dot(inputs, W) + b\n",
        "    inputs = jnp.maximum(outputs, 0)\n",
        "  return outputs\n",
        "\n",
        "def loss(params, inputs, targets):\n",
        "  \"\"\"MSE loss.\"\"\"\n",
        "  predictions = predict(params, inputs)\n",
        "  return jnp.mean(jnp.sum((predictions - targets)**2, axis=-1))"
      ],
      "metadata": {
        "id": "BusPPoi1d6SS"
      },
      "execution_count": null,
      "outputs": []
    },
    {
      "cell_type": "code",
      "source": [
        "# Compiled and differentiable function composition\n",
        "loss_jit = jax.jit(loss)\n",
        "gradfun = jax.jit(jax.grad(loss))"
      ],
      "metadata": {
        "id": "KUfUJfcQejuu"
      },
      "execution_count": null,
      "outputs": []
    },
    {
      "cell_type": "code",
      "source": [
        "def init_layer(key, n_in, n_out, model_parallel=True):\n",
        "  \"\"\"Creates a weight and bias param.\"\"\"\n",
        "  k1, k2 = jax.random.split(key)\n",
        "  W = jax.random.normal(k1, (n_in, n_out)) / jnp.sqrt(n_in)\n",
        "  b = jax.random.normal(k2, (n_out,))\n",
        "  if model_parallel:\n",
        "    W = jax.device_put(W, NamedSharding(mesh, P('y', None)))\n",
        "  return W, b\n",
        "\n",
        "def init_model(key, layer_sizes, batch_size):\n",
        "  \"\"\"Creates both parameters and example inputs/target.\"\"\"\n",
        "  # determinism guarantees through explicit RNG keys\n",
        "  key, *keys = jax.random.split(key, len(layer_sizes))\n",
        "  params = list(map(init_layer, keys, layer_sizes[:-1], layer_sizes[1:]))\n",
        "\n",
        "    \n",
        "  key, *keys = jax.random.split(key, 3)\n",
        "  inputs = jax.random.normal(keys[0], (batch_size, layer_sizes[0]))\n",
        "  targets = jax.random.normal(keys[1], (batch_size, layer_sizes[-1]))\n",
        "\n",
        "  return params, (inputs, targets)\n",
        "\n",
        "# small sizes so that this example runs on CPU\n",
        "layer_sizes = [32, 64, 64, 32, 10]\n",
        "batch_size = 16\n",
        "\n",
        "params, (inputs, targets) = init_model(jax.random.PRNGKey(0), layer_sizes, batch_size)"
      ],
      "metadata": {
        "id": "R6INrW-1euVH"
      },
      "execution_count": null,
      "outputs": []
    },
    {
      "cell_type": "code",
      "source": [
        "# batch is shaped [batch, embedding]\n",
        "# split batch over the x axis of our hardware mesh\n",
        "# similarly, we could split our model parameters \n",
        "inputs = jax.device_put(inputs, NamedSharding(mesh, P('x', None)))\n",
        "jax.debug.visualize_array_sharding(inputs)"
      ],
      "metadata": {
        "colab": {
          "base_uri": "https://localhost:8080/",
          "height": 215
        },
        "id": "zZT6YJmhiKJn",
        "outputId": "0213cffe-bf20-4d28-a07f-77e72e1cb980"
      },
      "execution_count": null,
      "outputs": [
        {
          "output_type": "display_data",
          "data": {
            "text/plain": [
              "\u001b[38;2;255;255;255;48;2;57;59;121m                                                  \u001b[0m\n",
              "\u001b[38;2;255;255;255;48;2;57;59;121m                     \u001b[0m\u001b[38;2;255;255;255;48;2;57;59;121mCPU 0,1\u001b[0m\u001b[38;2;255;255;255;48;2;57;59;121m                      \u001b[0m\n",
              "\u001b[38;2;255;255;255;48;2;57;59;121m                                                  \u001b[0m\n",
              "\u001b[38;2;255;255;255;48;2;222;158;214m                                                  \u001b[0m\n",
              "\u001b[38;2;255;255;255;48;2;222;158;214m                     \u001b[0m\u001b[38;2;255;255;255;48;2;222;158;214mCPU 2,3\u001b[0m\u001b[38;2;255;255;255;48;2;222;158;214m                      \u001b[0m\n",
              "\u001b[38;2;255;255;255;48;2;222;158;214m                                                  \u001b[0m\n",
              "\u001b[38;2;255;255;255;48;2;173;73;74m                                                  \u001b[0m\n",
              "\u001b[38;2;255;255;255;48;2;173;73;74m                     \u001b[0m\u001b[38;2;255;255;255;48;2;173;73;74mCPU 4,5\u001b[0m\u001b[38;2;255;255;255;48;2;173;73;74m                      \u001b[0m\n",
              "\u001b[38;2;255;255;255;48;2;173;73;74m                                                  \u001b[0m\n",
              "\u001b[38;2;0;0;0;48;2;181;207;107m                                                  \u001b[0m\n",
              "\u001b[38;2;0;0;0;48;2;181;207;107m                     \u001b[0m\u001b[38;2;0;0;0;48;2;181;207;107mCPU 6,7\u001b[0m\u001b[38;2;0;0;0;48;2;181;207;107m                      \u001b[0m\n",
              "\u001b[38;2;0;0;0;48;2;181;207;107m                                                  \u001b[0m\n"
            ],
            "text/html": [
              "<pre style=\"white-space:pre;overflow-x:auto;line-height:normal;font-family:Menlo,'DejaVu Sans Mono',consolas,'Courier New',monospace\"><span style=\"color: #ffffff; text-decoration-color: #ffffff; background-color: #393b79\">                                                  </span>\n",
              "<span style=\"color: #ffffff; text-decoration-color: #ffffff; background-color: #393b79\">                     CPU 0,1                      </span>\n",
              "<span style=\"color: #ffffff; text-decoration-color: #ffffff; background-color: #393b79\">                                                  </span>\n",
              "<span style=\"color: #ffffff; text-decoration-color: #ffffff; background-color: #de9ed6\">                                                  </span>\n",
              "<span style=\"color: #ffffff; text-decoration-color: #ffffff; background-color: #de9ed6\">                     CPU 2,3                      </span>\n",
              "<span style=\"color: #ffffff; text-decoration-color: #ffffff; background-color: #de9ed6\">                                                  </span>\n",
              "<span style=\"color: #ffffff; text-decoration-color: #ffffff; background-color: #ad494a\">                                                  </span>\n",
              "<span style=\"color: #ffffff; text-decoration-color: #ffffff; background-color: #ad494a\">                     CPU 4,5                      </span>\n",
              "<span style=\"color: #ffffff; text-decoration-color: #ffffff; background-color: #ad494a\">                                                  </span>\n",
              "<span style=\"color: #000000; text-decoration-color: #000000; background-color: #b5cf6b\">                                                  </span>\n",
              "<span style=\"color: #000000; text-decoration-color: #000000; background-color: #b5cf6b\">                     CPU 6,7                      </span>\n",
              "<span style=\"color: #000000; text-decoration-color: #000000; background-color: #b5cf6b\">                                                  </span>\n",
              "</pre>\n"
            ]
          },
          "metadata": {}
        }
      ]
    },
    {
      "cell_type": "code",
      "source": [
        "# We can also note that our params are sharded across the y axis of the mesh\n",
        "jax.debug.visualize_array_sharding(params[0][0])"
      ],
      "metadata": {
        "colab": {
          "base_uri": "https://localhost:8080/",
          "height": 215
        },
        "id": "HfrHhvxxDpnN",
        "outputId": "ed8d45a8-89d3-46c5-d122-969f1a1382f0"
      },
      "execution_count": null,
      "outputs": [
        {
          "output_type": "display_data",
          "data": {
            "text/plain": [
              "\u001b[38;2;255;255;255;48;2;57;59;121m                                                  \u001b[0m\n",
              "\u001b[38;2;255;255;255;48;2;57;59;121m                                                  \u001b[0m\n",
              "\u001b[38;2;255;255;255;48;2;57;59;121m                   \u001b[0m\u001b[38;2;255;255;255;48;2;57;59;121mCPU 0,2,4,6\u001b[0m\u001b[38;2;255;255;255;48;2;57;59;121m                    \u001b[0m\n",
              "\u001b[38;2;255;255;255;48;2;57;59;121m                                                  \u001b[0m\n",
              "\u001b[38;2;255;255;255;48;2;57;59;121m                                                  \u001b[0m\n",
              "\u001b[38;2;255;255;255;48;2;57;59;121m                                                  \u001b[0m\n",
              "\u001b[38;2;255;255;255;48;2;57;59;121m                                                  \u001b[0m\n",
              "\u001b[38;2;255;255;255;48;2;57;59;121m                                                  \u001b[0m\n",
              "\u001b[38;2;255;255;255;48;2;57;59;121m                   \u001b[0m\u001b[38;2;255;255;255;48;2;57;59;121mCPU 1,3,5,7\u001b[0m\u001b[38;2;255;255;255;48;2;57;59;121m                    \u001b[0m\n",
              "\u001b[38;2;255;255;255;48;2;57;59;121m                                                  \u001b[0m\n",
              "\u001b[38;2;255;255;255;48;2;57;59;121m                                                  \u001b[0m\n",
              "\u001b[38;2;255;255;255;48;2;57;59;121m                                                  \u001b[0m\n"
            ],
            "text/html": [
              "<pre style=\"white-space:pre;overflow-x:auto;line-height:normal;font-family:Menlo,'DejaVu Sans Mono',consolas,'Courier New',monospace\"><span style=\"color: #ffffff; text-decoration-color: #ffffff; background-color: #393b79\">                                                  </span>\n",
              "<span style=\"color: #ffffff; text-decoration-color: #ffffff; background-color: #393b79\">                                                  </span>\n",
              "<span style=\"color: #ffffff; text-decoration-color: #ffffff; background-color: #393b79\">                   CPU 0,2,4,6                    </span>\n",
              "<span style=\"color: #ffffff; text-decoration-color: #ffffff; background-color: #393b79\">                                                  </span>\n",
              "<span style=\"color: #ffffff; text-decoration-color: #ffffff; background-color: #393b79\">                                                  </span>\n",
              "<span style=\"color: #ffffff; text-decoration-color: #ffffff; background-color: #393b79\">                                                  </span>\n",
              "<span style=\"color: #ffffff; text-decoration-color: #ffffff; background-color: #393b79\">                                                  </span>\n",
              "<span style=\"color: #ffffff; text-decoration-color: #ffffff; background-color: #393b79\">                                                  </span>\n",
              "<span style=\"color: #ffffff; text-decoration-color: #ffffff; background-color: #393b79\">                   CPU 1,3,5,7                    </span>\n",
              "<span style=\"color: #ffffff; text-decoration-color: #ffffff; background-color: #393b79\">                                                  </span>\n",
              "<span style=\"color: #ffffff; text-decoration-color: #ffffff; background-color: #393b79\">                                                  </span>\n",
              "<span style=\"color: #ffffff; text-decoration-color: #ffffff; background-color: #393b79\">                                                  </span>\n",
              "</pre>\n"
            ]
          },
          "metadata": {}
        }
      ]
    },
    {
      "cell_type": "code",
      "source": [
        "loss_jit(params, inputs, targets)"
      ],
      "metadata": {
        "colab": {
          "base_uri": "https://localhost:8080/"
        },
        "id": "XtMSAfnSjBHy",
        "outputId": "db2f44bf-9eb6-41d5-f129-b199233d2863"
      },
      "execution_count": null,
      "outputs": [
        {
          "output_type": "execute_result",
          "data": {
            "text/plain": [
              "Array(18.977833, dtype=float32)"
            ]
          },
          "metadata": {},
          "execution_count": 56
        }
      ]
    },
    {
      "cell_type": "code",
      "source": [
        "step_size = 3e-4\n",
        "\n",
        "for _ in range(30):\n",
        "  grads = gradfun(params, inputs, targets)\n",
        "  # interprets two data structures as trees, applies the same function to \n",
        "  # all comparable 'leaves' of the trees\n",
        "  params = jax.tree_map(lambda W, dw: W - step_size * dw, params, grads)\n",
        "\n",
        "\n",
        "print(loss_jit(params, inputs, targets))"
      ],
      "metadata": {
        "colab": {
          "base_uri": "https://localhost:8080/"
        },
        "id": "AzSSlbTojigm",
        "outputId": "270367fe-2020-4c75-e3f4-e6c35e62a948"
      },
      "execution_count": null,
      "outputs": [
        {
          "output_type": "stream",
          "name": "stdout",
          "text": [
            "12.564707\n"
          ]
        }
      ]
    },
    {
      "cell_type": "markdown",
      "source": [
        "# Is this representative of  real models? Yes!\n",
        "- You can use flax for a pytorch style API\n",
        "- Even in pure Jax, you can define transformers really elegantly. I've used this to make a minimal PaLM - which we then optimised. It gave us explicit control over our tensors."
      ],
      "metadata": {
        "id": "z8MNabd65tcS"
      }
    },
    {
      "cell_type": "code",
      "source": [
        "# For example!\n",
        "def fprop_layer(x_spec, params, x):\n",
        "  \"\"\"Forward pass through a single transformer layer.\"\"\"\n",
        "  qkv, o, wi, wo = params\n",
        "  x = with_sharding_constraint(x, x_spec)\n",
        "  xnorm = jax.nn.normalize(x)\n",
        "  q, k, v = jnp.einsum('bte,iehq->ibthq', xnorm, qkv)\n",
        "  outer = jnp.einsum('bshq,bthq->bsth', q, k)\n",
        "  alpha = jax.nn.softmax(outer, 2)\n",
        "  inner = jnp.einsum('bsth,bthq->bshq', alpha, v)\n",
        "  y = jnp.einsum('bthq,hqe->bte', inner, o)\n",
        "  x = with_sharding_constraint(x + y, x_spec)\n",
        "  xnorm = jax.nn.normalize(x)\n",
        "  act = jnp.tanh(jnp.einsum('bte,ef->btf', xnorm, wi))\n",
        "  z = jnp.einsum('btf,fe->bte', act, wo)\n",
        "  return with_sharding_constraint(x + z, x_spec)"
      ],
      "metadata": {
        "id": "4ZLl5CFp5tDO"
      },
      "execution_count": null,
      "outputs": []
    },
    {
      "cell_type": "markdown",
      "source": [
        "# 2.  Building up from the basics!"
      ],
      "metadata": {
        "id": "YCh1GWkxvqLy"
      }
    },
    {
      "cell_type": "markdown",
      "source": [
        "Think of JAX as differentiable NumPy that runs on accelerators.\n",
        "\n"
      ],
      "metadata": {
        "id": "xLYoBtxm8Ll1"
      }
    },
    {
      "cell_type": "code",
      "source": [
        "import jax\n",
        "import jax.numpy as jnp\n",
        "\n",
        "x = jnp.arange(10)\n",
        "print(x)"
      ],
      "metadata": {
        "colab": {
          "base_uri": "https://localhost:8080/"
        },
        "id": "NdgJi6a48EJJ",
        "outputId": "5095b13f-6fa3-4ac6-8c8b-5c6381ac1407"
      },
      "execution_count": null,
      "outputs": [
        {
          "output_type": "stream",
          "name": "stdout",
          "text": [
            "[0 1 2 3 4 5 6 7 8 9]\n"
          ]
        }
      ]
    },
    {
      "cell_type": "markdown",
      "source": [
        "Computations in Jax are asynchronously dispatched to your accelerator - this prevents long running computations from blocking the queue - but it does mean that when using an accelerator you should use *block_until_ready* to properly time your functions."
      ],
      "metadata": {
        "id": "OF6hpoLV8W4N"
      }
    },
    {
      "cell_type": "code",
      "source": [
        "long_vector = jnp.arange(int(1e4))\n",
        "\n",
        "jnp.dot(long_vector, long_vector).block_until_ready()"
      ],
      "metadata": {
        "colab": {
          "base_uri": "https://localhost:8080/"
        },
        "id": "B3Jk-kkA8EHR",
        "outputId": "dc741b2a-4438-488c-b348-4d70fa73913b"
      },
      "execution_count": null,
      "outputs": [
        {
          "output_type": "execute_result",
          "data": {
            "text/plain": [
              "Array(-1724114088, dtype=int32)"
            ]
          },
          "metadata": {},
          "execution_count": 27
        }
      ]
    },
    {
      "cell_type": "markdown",
      "source": [
        "## JAX first transformation: `grad`\n",
        "\n",
        "A fundamental feature of JAX is that it allows you to transform functions.\n",
        "\n",
        "One of the most commonly used transformations is `jax.grad`, which takes a numerical function written in Python and returns you a new Python function that computes the gradient of the original function. \n",
        "\n",
        "To use it, let's first define a function that takes an array and returns the sum of squares.\n"
      ],
      "metadata": {
        "id": "i7GQ93k59Jwq"
      }
    },
    {
      "cell_type": "code",
      "execution_count": null,
      "metadata": {
        "id": "LuaGUVRUvbzQ"
      },
      "outputs": [],
      "source": [
        "def sum_of_squares(x):\n",
        "  return jnp.sum(x**2)"
      ]
    },
    {
      "cell_type": "markdown",
      "metadata": {
        "id": "QAqloI1Wvtp2"
      },
      "source": [
        "Applying `jax.grad` to `sum_of_squares` will return a different function, namely the gradient of `sum_of_squares` with respect to its first parameter `x`. \n",
        "\n",
        "Then, you can use that function on an array to return the derivatives with respect to each element of the array."
      ]
    },
    {
      "cell_type": "code",
      "execution_count": null,
      "metadata": {
        "id": "dKeorwJfvpeI",
        "outputId": "19bfa2ca-340a-490a-8590-8f359a6043b6",
        "colab": {
          "base_uri": "https://localhost:8080/"
        }
      },
      "outputs": [
        {
          "output_type": "stream",
          "name": "stdout",
          "text": [
            "30.0\n",
            "[2. 4. 6. 8.]\n"
          ]
        }
      ],
      "source": [
        "sum_of_squares_dx = jax.grad(sum_of_squares)\n",
        "\n",
        "x = jnp.asarray([1.0, 2.0, 3.0, 4.0])\n",
        "\n",
        "print(sum_of_squares(x))\n",
        "\n",
        "print(sum_of_squares_dx(x))"
      ]
    },
    {
      "cell_type": "markdown",
      "metadata": {
        "id": "VfBt5CYbyKUX"
      },
      "source": [
        "You can think of `jax.grad` by analogy to the $\\nabla$ operator from vector calculus. Given a function $f(x)$, $\\nabla f$ represents the function that computes $f$'s gradient, i.e.\n",
        "\n",
        "$$\n",
        "(\\nabla f)(x)_i = \\frac{\\partial f}{\\partial x_i}(x).\n",
        "$$\n",
        "\n",
        "Analogously, `jax.grad(f)` is the function that computes the gradient, so `jax.grad(f)(x)` is the gradient of `f` at `x`.\n",
        "\n",
        "(Like $\\nabla$, `jax.grad` will only work on functions with a scalar output -- it will raise an error otherwise.)\n",
        "\n",
        "This makes the JAX API quite different from other autodiff libraries like Tensorflow and PyTorch, where to compute the gradient we use the loss tensor itself (e.g. by calling `loss.backward()`). The JAX API works directly with functions, staying closer to the underlying math. Once you become accustomed to this way of doing things, it feels natural: your loss function in code really is a function of parameters and data, and you find its gradient just like you would in the math.\n",
        "\n",
        "This way of doing things makes it straightforward to control things like which variables to differentiate with respect to. By default, `jax.grad` will find the gradient with respect to the first argument. In the example below, the result of `sum_squared_error_dx` will be the gradient of `sum_squared_error` with respect to `x`."
      ]
    },
    {
      "cell_type": "code",
      "execution_count": null,
      "metadata": {
        "id": "f3NfaVu4yrQE",
        "outputId": "b98eed23-7075-4d11-8a00-6e45b691dd27",
        "colab": {
          "base_uri": "https://localhost:8080/"
        }
      },
      "outputs": [
        {
          "output_type": "stream",
          "name": "stdout",
          "text": [
            "[-0.20000005 -0.19999981 -0.19999981 -0.19999981]\n"
          ]
        }
      ],
      "source": [
        "def sum_squared_error(x, y):\n",
        "  return jnp.sum((x-y)**2)\n",
        "\n",
        "sum_squared_error_dx = jax.grad(sum_squared_error)\n",
        "\n",
        "y = jnp.asarray([1.1, 2.1, 3.1, 4.1])\n",
        "\n",
        "print(sum_squared_error_dx(x, y))"
      ]
    },
    {
      "cell_type": "markdown",
      "metadata": {
        "id": "1tOztA5zpLWN"
      },
      "source": [
        "To find the gradient with respect to a different argument (or several), you can set `argnums`:"
      ]
    },
    {
      "cell_type": "code",
      "execution_count": null,
      "metadata": {
        "id": "FQSczVQkqIPY",
        "outputId": "cc7896be-94f8-4aae-d964-31d70900dd05",
        "colab": {
          "base_uri": "https://localhost:8080/"
        }
      },
      "outputs": [
        {
          "output_type": "execute_result",
          "data": {
            "text/plain": [
              "(Array([-0.20000005, -0.19999981, -0.19999981, -0.19999981], dtype=float32),\n",
              " Array([0.20000005, 0.19999981, 0.19999981, 0.19999981], dtype=float32))"
            ]
          },
          "metadata": {},
          "execution_count": 23
        }
      ],
      "source": [
        "jax.grad(sum_squared_error, argnums=(0, 1))(x, y)  # Find gradient wrt both x & y"
      ]
    },
    {
      "cell_type": "markdown",
      "metadata": {
        "id": "yQAMTnZSqo-t"
      },
      "source": [
        "Does this mean that when doing machine learning, we need to write functions with gigantic argument lists, with an argument for each model parameter array? No. JAX comes equipped with machinery for bundling arrays together in data structures called 'pytrees', on which more in a [later guide](https://colab.research.google.com/github/google/jax/blob/main/docs/jax-101/05.1-pytrees.ipynb). So, most often, use of `jax.grad` looks like this:\n",
        "\n",
        "```\n",
        "def loss_fn(params, data):\n",
        "  ...\n",
        "\n",
        "grads = jax.grad(loss_fn)(params, data_batch)\n",
        "```"
      ]
    },
    {
      "cell_type": "markdown",
      "metadata": {
        "id": "LNjf9jUEsZZ8"
      },
      "source": [
        "## Value and Grad\n",
        "\n",
        "Often, you need to find both the value and the gradient of a function, e.g. if you want to log the training loss. JAX has a handy sister transformation for efficiently doing that:"
      ]
    },
    {
      "cell_type": "code",
      "execution_count": null,
      "metadata": {
        "id": "dWg4_-h3sYwl",
        "outputId": "cf4d728b-ea80-49ab-f433-ab574c795872",
        "colab": {
          "base_uri": "https://localhost:8080/"
        }
      },
      "outputs": [
        {
          "output_type": "execute_result",
          "data": {
            "text/plain": [
              "(Array(0.03999995, dtype=float32),\n",
              " Array([-0.20000005, -0.19999981, -0.19999981, -0.19999981], dtype=float32))"
            ]
          },
          "metadata": {},
          "execution_count": 24
        }
      ],
      "source": [
        "jax.value_and_grad(sum_squared_error)(x, y)"
      ]
    },
    {
      "cell_type": "markdown",
      "metadata": {
        "id": "QVT2EWHJsvvv"
      },
      "source": [
        "which returns a tuple of, you guessed it, (value, grad). To be precise, for any `f`,\n",
        "\n",
        "```\n",
        "jax.value_and_grad(f)(*xs) == (f(*xs), jax.grad(f)(*xs)) \n",
        "```"
      ]
    },
    {
      "cell_type": "markdown",
      "metadata": {
        "id": "fk4FUXe7vsW4"
      },
      "source": [
        "## Differences from NumPy\n",
        "\n",
        "The `jax.numpy` API closely follows that of NumPy. However, there are some important differences. We cover many of these in future guides, but it's worth pointing some out now.\n",
        "\n",
        "The most important difference, and in some sense the root of all the rest, is that JAX is designed to be _functional_, as in _functional programming_. The reason behind this is that the kinds of program transformations that JAX enables are much more feasible in functional-style programs.\n",
        "\n",
        "An introduction to functional programming (FP) is out of scope of this guide. If you already are familiar with FP, you will find your FP intuition helpful while learning JAX. If not, don't worry! The important feature of functional programming to grok when working with JAX is very simple: don't write code with side-effects.\n",
        "\n",
        "A side-effect is any effect of a function that doesn't appear in its output. One example is modifying an array in place:"
      ]
    },
    {
      "cell_type": "code",
      "execution_count": null,
      "metadata": {
        "id": "o_YBuLQC1wPJ",
        "outputId": "d8d16525-afd3-44bc-d60a-d58a54e55af3",
        "colab": {
          "base_uri": "https://localhost:8080/"
        }
      },
      "outputs": [
        {
          "output_type": "execute_result",
          "data": {
            "text/plain": [
              "array([123,   2,   3])"
            ]
          },
          "metadata": {},
          "execution_count": 25
        }
      ],
      "source": [
        "import numpy as np\n",
        "\n",
        "x = np.array([1, 2, 3])\n",
        "\n",
        "def in_place_modify(x):\n",
        "  x[0] = 123\n",
        "  return None\n",
        "\n",
        "in_place_modify(x)\n",
        "x"
      ]
    },
    {
      "cell_type": "markdown",
      "metadata": {
        "id": "JTtUihVZ13F6"
      },
      "source": [
        "The side-effectful function modifies its argument, but returns a completely unrelated value. The modification is a side-effect. \n",
        "\n",
        "The code below will run in NumPy. However, JAX arrays won't allow themselves to be modified in-place:"
      ]
    },
    {
      "cell_type": "code",
      "execution_count": null,
      "metadata": {
        "id": "u6grTYIVcZ3f",
        "tags": [
          "raises-exception"
        ],
        "outputId": "06267339-c0d2-4f47-bed9-d6261e291eaa",
        "colab": {
          "base_uri": "https://localhost:8080/",
          "height": 433
        }
      },
      "outputs": [
        {
          "output_type": "error",
          "ename": "TypeError",
          "evalue": "ignored",
          "traceback": [
            "\u001b[0;31m---------------------------------------------------------------------------\u001b[0m",
            "\u001b[0;31mTypeError\u001b[0m                                 Traceback (most recent call last)",
            "\u001b[0;32m<ipython-input-26-709e2d7ddd3f>\u001b[0m in \u001b[0;36m<module>\u001b[0;34m\u001b[0m\n\u001b[0;32m----> 1\u001b[0;31m \u001b[0min_place_modify\u001b[0m\u001b[0;34m(\u001b[0m\u001b[0mjnp\u001b[0m\u001b[0;34m.\u001b[0m\u001b[0marray\u001b[0m\u001b[0;34m(\u001b[0m\u001b[0mx\u001b[0m\u001b[0;34m)\u001b[0m\u001b[0;34m)\u001b[0m  \u001b[0;31m# Raises error when we cast input to jnp.ndarray\u001b[0m\u001b[0;34m\u001b[0m\u001b[0;34m\u001b[0m\u001b[0m\n\u001b[0m",
            "\u001b[0;32m<ipython-input-25-fce65eb843c7>\u001b[0m in \u001b[0;36min_place_modify\u001b[0;34m(x)\u001b[0m\n\u001b[1;32m      4\u001b[0m \u001b[0;34m\u001b[0m\u001b[0m\n\u001b[1;32m      5\u001b[0m \u001b[0;32mdef\u001b[0m \u001b[0min_place_modify\u001b[0m\u001b[0;34m(\u001b[0m\u001b[0mx\u001b[0m\u001b[0;34m)\u001b[0m\u001b[0;34m:\u001b[0m\u001b[0;34m\u001b[0m\u001b[0;34m\u001b[0m\u001b[0m\n\u001b[0;32m----> 6\u001b[0;31m   \u001b[0mx\u001b[0m\u001b[0;34m[\u001b[0m\u001b[0;36m0\u001b[0m\u001b[0;34m]\u001b[0m \u001b[0;34m=\u001b[0m \u001b[0;36m123\u001b[0m\u001b[0;34m\u001b[0m\u001b[0;34m\u001b[0m\u001b[0m\n\u001b[0m\u001b[1;32m      7\u001b[0m   \u001b[0;32mreturn\u001b[0m \u001b[0;32mNone\u001b[0m\u001b[0;34m\u001b[0m\u001b[0;34m\u001b[0m\u001b[0m\n\u001b[1;32m      8\u001b[0m \u001b[0;34m\u001b[0m\u001b[0m\n",
            "\u001b[0;32m/usr/local/lib/python3.7/dist-packages/jax/_src/numpy/lax_numpy.py\u001b[0m in \u001b[0;36m_unimplemented_setitem\u001b[0;34m(self, i, x)\u001b[0m\n\u001b[1;32m   4946\u001b[0m          \u001b[0;34m\"or another .at[] method: \"\u001b[0m\u001b[0;34m\u001b[0m\u001b[0;34m\u001b[0m\u001b[0m\n\u001b[1;32m   4947\u001b[0m          \"https://jax.readthedocs.io/en/latest/_autosummary/jax.numpy.ndarray.at.html\")\n\u001b[0;32m-> 4948\u001b[0;31m   \u001b[0;32mraise\u001b[0m \u001b[0mTypeError\u001b[0m\u001b[0;34m(\u001b[0m\u001b[0mmsg\u001b[0m\u001b[0;34m.\u001b[0m\u001b[0mformat\u001b[0m\u001b[0;34m(\u001b[0m\u001b[0mtype\u001b[0m\u001b[0;34m(\u001b[0m\u001b[0mself\u001b[0m\u001b[0;34m)\u001b[0m\u001b[0;34m)\u001b[0m\u001b[0;34m)\u001b[0m\u001b[0;34m\u001b[0m\u001b[0;34m\u001b[0m\u001b[0m\n\u001b[0m\u001b[1;32m   4949\u001b[0m \u001b[0;34m\u001b[0m\u001b[0m\n\u001b[1;32m   4950\u001b[0m \u001b[0;32mdef\u001b[0m \u001b[0m_operator_round\u001b[0m\u001b[0;34m(\u001b[0m\u001b[0mnumber\u001b[0m\u001b[0;34m:\u001b[0m \u001b[0mArrayLike\u001b[0m\u001b[0;34m,\u001b[0m \u001b[0mndigits\u001b[0m\u001b[0;34m:\u001b[0m \u001b[0mOptional\u001b[0m\u001b[0;34m[\u001b[0m\u001b[0mint\u001b[0m\u001b[0;34m]\u001b[0m \u001b[0;34m=\u001b[0m \u001b[0;32mNone\u001b[0m\u001b[0;34m)\u001b[0m \u001b[0;34m->\u001b[0m \u001b[0mArray\u001b[0m\u001b[0;34m:\u001b[0m\u001b[0;34m\u001b[0m\u001b[0;34m\u001b[0m\u001b[0m\n",
            "\u001b[0;31mTypeError\u001b[0m: '<class 'jaxlib.xla_extension.Array'>' object does not support item assignment. JAX arrays are immutable. Instead of ``x[idx] = y``, use ``x = x.at[idx].set(y)`` or another .at[] method: https://jax.readthedocs.io/en/latest/_autosummary/jax.numpy.ndarray.at.html"
          ]
        }
      ],
      "source": [
        "in_place_modify(jnp.array(x))  # Raises error when we cast input to jnp.ndarray"
      ]
    },
    {
      "cell_type": "markdown",
      "metadata": {
        "id": "RGqVfYSpc49s"
      },
      "source": [
        "Helpfully, the error points us to JAX's side-effect-free way of doing the same thing via the [`jax.numpy.ndarray.at`](https://jax.readthedocs.io/en/latest/_autosummary/jax.numpy.ndarray.at.html) index update operators (be careful [`jax.ops.index_*`](https://jax.readthedocs.io/en/latest/jax.ops.html#indexed-update-functions-deprecated) functions are deprecated). They are analogous to in-place modification by index, but create a new array with the corresponding modifications made:"
      ]
    },
    {
      "cell_type": "code",
      "execution_count": null,
      "metadata": {
        "id": "Rmklk6BB2xF0",
        "outputId": "2edc9f89-3561-435b-dfad-852f87cb7243",
        "colab": {
          "base_uri": "https://localhost:8080/"
        }
      },
      "outputs": [
        {
          "output_type": "execute_result",
          "data": {
            "text/plain": [
              "Array([123,   2,   3], dtype=int32)"
            ]
          },
          "metadata": {},
          "execution_count": 27
        }
      ],
      "source": [
        "def jax_in_place_modify(x):\n",
        "  return x.at[0].set(123)\n",
        "\n",
        "y = jnp.array([1, 2, 3])\n",
        "jax_in_place_modify(y)"
      ]
    },
    {
      "cell_type": "markdown",
      "metadata": {
        "id": "91tn_25vdrNf"
      },
      "source": [
        "Note that the old array was untouched, so there is no side-effect:"
      ]
    },
    {
      "cell_type": "code",
      "execution_count": null,
      "metadata": {
        "id": "KQGXig4Hde6T",
        "outputId": "137b9ef7-1e4d-4e19-84a8-5fe7d7f7f565",
        "colab": {
          "base_uri": "https://localhost:8080/"
        }
      },
      "outputs": [
        {
          "output_type": "execute_result",
          "data": {
            "text/plain": [
              "Array([1, 2, 3], dtype=int32)"
            ]
          },
          "metadata": {},
          "execution_count": 28
        }
      ],
      "source": [
        "y"
      ]
    },
    {
      "cell_type": "markdown",
      "metadata": {
        "id": "d5TibzPO25qa"
      },
      "source": [
        "Side-effect-free code is sometimes called *functionally pure*, or just *pure*.\n",
        "\n",
        "Isn't the pure version less efficient? Strictly, yes; we are creating a new array. However, as we will explain in the next guide, JAX computations are often compiled before being run using another program transformation, `jax.jit`. If we don't use the old array after modifying it 'in place' using indexed update operators, the compiler can recognise that it can in fact compile to an in-place modify, resulting in efficient code in the end.\n",
        "\n",
        "Of course, it's possible to mix side-effectful Python code and functionally pure JAX code, and we will touch on this more later. As you get more familiar with JAX, you will learn how and when this can work. As a rule of thumb, however, any functions intended to be transformed by JAX should avoid side-effects, and the JAX primitives themselves will try to help you do that."
      ]
    },
    {
      "cell_type": "markdown",
      "metadata": {
        "id": "dFn_VBFFlGCz"
      },
      "source": [
        "## Your first JAX training loop\n",
        "\n",
        "You already know enough to understand how we can use JAX to build a simple training loop.\n",
        "\n",
        "To keep things simple, we'll start with a linear regression. \n",
        "\n",
        "Our data is sampled according to $y = w_{true} x + b_{true} + \\epsilon$."
      ]
    },
    {
      "cell_type": "code",
      "execution_count": null,
      "metadata": {
        "id": "WGgyEWFqrPq1",
        "outputId": "ec44911a-b78a-44bb-f50c-e1d929ea8bd6",
        "colab": {
          "base_uri": "https://localhost:8080/",
          "height": 266
        }
      },
      "outputs": [
        {
          "output_type": "display_data",
          "data": {
            "text/plain": [
              "<Figure size 432x288 with 1 Axes>"
            ],
            "image/png": "[encoded data removed]"
          },
          "metadata": {
            "needs_background": "light"
          }
        }
      ],
      "source": [
        "import numpy as np\n",
        "import matplotlib.pyplot as plt\n",
        "\n",
        "xs = np.random.normal(size=(100,))\n",
        "noise = np.random.normal(scale=0.1, size=(100,))\n",
        "ys = xs * 3 - 1 + noise\n",
        "\n",
        "plt.scatter(xs, ys);"
      ]
    },
    {
      "cell_type": "markdown",
      "metadata": {
        "id": "RTh22mo4rR1x"
      },
      "source": [
        "Therefore, our model is $\\hat y(x; \\theta) = wx + b$.\n",
        "\n",
        "We will use a single array, `theta = [w, b]` to house both parameters:"
      ]
    },
    {
      "cell_type": "code",
      "execution_count": null,
      "metadata": {
        "id": "TnVrRTMamyzb"
      },
      "outputs": [],
      "source": [
        "def model(theta, x):\n",
        "  \"\"\"Computes wx + b on a batch of input x.\"\"\"\n",
        "  w, b = theta\n",
        "  return w * x + b"
      ]
    },
    {
      "cell_type": "markdown",
      "metadata": {
        "id": "qCrLmmKrn9_h"
      },
      "source": [
        "The loss function is $J(x, y; \\theta) = (\\hat y - y)^2$."
      ]
    },
    {
      "cell_type": "code",
      "execution_count": null,
      "metadata": {
        "id": "07eMcDLMn9Ww"
      },
      "outputs": [],
      "source": [
        "def loss_fn(theta, x, y):\n",
        "  prediction = model(theta, x)\n",
        "  return jnp.mean((prediction-y)**2)"
      ]
    },
    {
      "cell_type": "markdown",
      "metadata": {
        "id": "ejMt4dulnoYX"
      },
      "source": [
        "How do we optimize a loss function? Using gradient descent. At each update step, we will find the gradient of the loss w.r.t. the parameters, and take a small step in the direction of steepest descent:\n",
        "\n",
        "$\\theta_{new} = \\theta - 0.1 (\\nabla_\\theta J) (x, y; \\theta)$"
      ]
    },
    {
      "cell_type": "code",
      "execution_count": null,
      "metadata": {
        "id": "2I6T5Wphpaaa"
      },
      "outputs": [],
      "source": [
        "def update(theta, x, y, lr=0.1):\n",
        "  return theta - lr * jax.grad(loss_fn)(theta, x, y)"
      ]
    },
    {
      "cell_type": "markdown",
      "metadata": {
        "id": "MAUL1gT_opVn"
      },
      "source": [
        "In JAX, it's common to define an `update()` function that is called every step, taking the current parameters as input and returning the new parameters. This is a natural consequence of JAX's functional nature, and is explained in more detail in [The Problem of State](https://colab.research.google.com/github/google/jax/blob/main/docs/jax-101/07-state.ipynb).\n",
        "\n",
        "This function can then be JIT-compiled in its entirety for maximum efficiency. The next guide will explain exactly how `jax.jit` works, but if you want to, you can try adding `@jax.jit` before the `update()` definition, and see how the training loop below runs much faster."
      ]
    },
    {
      "cell_type": "code",
      "execution_count": null,
      "metadata": {
        "id": "WLZxY7nIpuVW",
        "outputId": "1f114e64-3354-430f-9865-ca2cdaeea37f",
        "colab": {
          "base_uri": "https://localhost:8080/",
          "height": 282
        }
      },
      "outputs": [
        {
          "output_type": "stream",
          "name": "stdout",
          "text": [
            "w: 2.99, b: -1.00\n"
          ]
        },
        {
          "output_type": "display_data",
          "data": {
            "text/plain": [
              "<Figure size 432x288 with 1 Axes>"
            ],
            "image/png": "[encoded data removed]"
          },
          "metadata": {
            "needs_background": "light"
          }
        }
      ],
      "source": [
        "theta = jnp.array([1., 1.])\n",
        "\n",
        "for _ in range(1000):\n",
        "  theta = update(theta, xs, ys)\n",
        "\n",
        "plt.scatter(xs, ys)\n",
        "plt.plot(xs, model(theta, xs))\n",
        "\n",
        "w, b = theta\n",
        "print(f\"w: {w:<.2f}, b: {b:<.2f}\")"
      ]
    },
    {
      "cell_type": "markdown",
      "metadata": {
        "id": "O-SkdlPxvETZ"
      },
      "source": [
        "# Just In Time Compilation with JAX\n",
        "\n",
        "In this section, we will further explore how JAX works, and how we can make it performant.\n",
        "We will discuss the `jax.jit()` transform, which will perform *Just In Time* (JIT) compilation\n",
        "of a JAX Python function so it can be executed efficiently in XLA.\n",
        "\n",
        "**Question to the room: Does anyone know the major considerations in what makes code fast on accelerators?**\n",
        "\n",
        "## How JAX transforms work\n",
        "\n",
        "In the previous section, we discussed that JAX allows us to transform Python functions. This is done by first converting the Python function into a simple intermediate language called jaxpr. The transformations then work on the jaxpr representation. \n",
        "\n",
        "We can show a representation of the jaxpr of a function by using `jax.make_jaxpr`:"
      ]
    },
    {
      "cell_type": "code",
      "execution_count": null,
      "metadata": {
        "id": "P9Xj77Wx3Z2P",
        "outputId": "3ef4abc2-7794-4522-f122-3693582ff59c",
        "colab": {
          "base_uri": "https://localhost:8080/"
        }
      },
      "outputs": [
        {
          "output_type": "stream",
          "name": "stdout",
          "text": [
            "{ lambda ; a:f32[]. let\n",
            "    b:f32[] = log a\n",
            "    c:f32[] = log 2.0\n",
            "    d:f32[] = div b c\n",
            "  in (d,) }\n"
          ]
        }
      ],
      "source": [
        "import jax\n",
        "import jax.numpy as jnp\n",
        "\n",
        "global_list = []\n",
        "\n",
        "def log2(x):\n",
        "  global_list.append(x)\n",
        "  ln_x = jnp.log(x)\n",
        "  ln_2 = jnp.log(2.0)\n",
        "  return ln_x / ln_2\n",
        "\n",
        "print(jax.make_jaxpr(log2)(3.0))"
      ]
    },
    {
      "cell_type": "markdown",
      "source": [
        "We can look at jitting in the context of our previous linear regression model. You can see that the entire"
      ],
      "metadata": {
        "id": "VoUgtwDm_r_H"
      }
    },
    {
      "cell_type": "code",
      "source": [
        "jitted_update_fn = jax.jit(update)\n",
        "jax.make_jaxpr(jitted_update_fn)(theta, xs, ys)"
      ],
      "metadata": {
        "colab": {
          "base_uri": "https://localhost:8080/"
        },
        "id": "fBuywj1z_wEt",
        "outputId": "784a7fe9-cc04-434a-ccb9-63e7a88f74f9"
      },
      "execution_count": null,
      "outputs": [
        {
          "output_type": "execute_result",
          "data": {
            "text/plain": [
              "{ lambda ; a:f32[2] b:f32[100] c:f32[100]. let\n",
              "    d:f32[2] = xla_call[\n",
              "      call_jaxpr={ lambda ; e:f32[2] f:f32[100] g:f32[100]. let\n",
              "          h:f32[1] = slice[limit_indices=(1,) start_indices=(0,) strides=(1,)] e\n",
              "          i:f32[] = squeeze[dimensions=(0,)] h\n",
              "          j:f32[1] = slice[limit_indices=(2,) start_indices=(1,) strides=(1,)] e\n",
              "          k:f32[] = squeeze[dimensions=(0,)] j\n",
              "          l:f32[100] = mul i f\n",
              "          m:f32[100] = add l k\n",
              "          n:f32[100] = sub m g\n",
              "          o:f32[100] = integer_pow[y=2] n\n",
              "          p:f32[100] = integer_pow[y=1] n\n",
              "          q:f32[100] = mul 2.0 p\n",
              "          r:f32[] = reduce_sum[axes=(0,)] o\n",
              "          _:f32[] = div r 100.0\n",
              "          s:f32[] = div 1.0 100.0\n",
              "          t:f32[100] = broadcast_in_dim[broadcast_dimensions=() shape=(100,)] s\n",
              "          u:f32[100] = mul t q\n",
              "          v:f32[] = reduce_sum[axes=(0,)] u\n",
              "          w:f32[1] = broadcast_in_dim[broadcast_dimensions=() shape=(1,)] v\n",
              "          x:f32[2] = pad[padding_config=((1, 0, 0),)] w 0.0\n",
              "          y:f32[100] = mul u f\n",
              "          z:f32[] = reduce_sum[axes=(0,)] y\n",
              "          ba:f32[1] = broadcast_in_dim[broadcast_dimensions=() shape=(1,)] z\n",
              "          bb:f32[2] = pad[padding_config=((0, 1, 0),)] ba 0.0\n",
              "          bc:f32[2] = add_any x bb\n",
              "          bd:f32[2] = mul 0.10000000149011612 bc\n",
              "          be:f32[2] = sub e bd\n",
              "        in (be,) }\n",
              "      name=update\n",
              "    ] a b c\n",
              "  in (d,) }"
            ]
          },
          "metadata": {},
          "execution_count": 35
        }
      ]
    },
    {
      "cell_type": "markdown",
      "source": [
        "Jitting wraps the entire update function in an 'xla_call', which means that the entire thing is eventually compiled and optimised by XLA. This often results in dramatic speed ups, because instead of returning tensors to the accelerator memory (or worse, host memory!), the compiler can optimise the computations to occur together where possible, keeping things in faster memory on the chip.\n",
        "\n",
        "This also means that we can get a good idea of the cost and memory require by our functions, by compiling ahead of time! This makes optimising a little bit easier."
      ],
      "metadata": {
        "id": "IlWY-pceAagx"
      }
    },
    {
      "cell_type": "code",
      "source": [
        "jitted_update_fn.lower(theta, xs, ys).compile().cost_analysis()"
      ],
      "metadata": {
        "colab": {
          "base_uri": "https://localhost:8080/"
        },
        "id": "TFpWaAMOANpT",
        "outputId": "9f86357e-14ec-4c31-9418-a4d30a9a4c7e"
      },
      "execution_count": null,
      "outputs": [
        {
          "output_type": "execute_result",
          "data": {
            "text/plain": [
              "[{'bytes accessed': 3304.0,\n",
              "  'bytes accessed operand 0 {}': 1608.0,\n",
              "  'bytes accessed operand 1 {}': 432.0,\n",
              "  'bytes accessed operand 2 {}': 424.0,\n",
              "  'bytes accessed output {}': 840.0,\n",
              "  'flops': 1160.0,\n",
              "  'optimal_seconds': 0.0,\n",
              "  'utilization operand 0 {}': 5.0,\n",
              "  'utilization operand 1 {}': 5.0,\n",
              "  'utilization operand 2 {}': 3.0}]"
            ]
          },
          "metadata": {},
          "execution_count": 36
        }
      ]
    },
    {
      "cell_type": "markdown",
      "source": [
        "You can then call the function just as you would any other function - but now it will be much faster. Jit caches calls to the function with the same input shapes, but will need to re-trace if you use different shapes. This is a sharp edge, but one that is in the progress of being solved with dynamic shapes (and worth the payoff of faster code)"
      ],
      "metadata": {
        "id": "OKgaiZtlBEh7"
      }
    },
    {
      "cell_type": "code",
      "source": [
        "theta = jitted_update_fn(theta, xs, ys)"
      ],
      "metadata": {
        "id": "YS2mX6a6BEDB"
      },
      "execution_count": null,
      "outputs": []
    },
    {
      "cell_type": "markdown",
      "source": [
        "However, compiling complicated programs can be slow - because it is a difficult optimisation problem, and compiled programs can not have explicit if-else branching in them (if necessary, use jax.lax.cond).\n",
        "\n",
        "For most modern models, which are a stack of similar layers - these compile times can be dramatically reduced by using Jax's internal for loop to tell the compiler each layer is the same (it doesn't know this with a standard for loop), so it typically isn't a huge concern.\n"
      ],
      "metadata": {
        "id": "cfeJ0VlCBQ4D"
      }
    },
    {
      "cell_type": "markdown",
      "source": [
        "# Parallelism with Jax\n",
        "\n",
        "Now that we have some experience working with Jax, lets take a look at one of the key features relevant to modern machine learning, parallelism!\n",
        "\n",
        "Parallelism is important even if you have two chips - this can allow you to experiment with infernece using much larger models, or train more efficiently. It also allows you to easily use the same code if you want to explore scaling your models on more devices, once you have the ideas right!"
      ],
      "metadata": {
        "id": "-SOqXsk0CeyS"
      }
    },
    {
      "cell_type": "markdown",
      "source": [
        "## What even is partitioning?\n",
        "\n",
        "![image.png](data:image/png;base64,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)"
      ],
      "metadata": {
        "id": "UHgfLO1QDE-7"
      }
    },
    {
      "cell_type": "markdown",
      "source": [
        "In Jax, we think of partioning 'logical dimensions' of a tensor (like A and B) over hardware dimensions of a mesh of chips (like X and Y). 'Data parallelism' is just partitioning the batch axis of your inputs over one of your hardware axes. Model parallelism is the same, but for one or more dimensions of your weights. ZeRO style update sharding is the same, but sharding the layers dimension of your weights!"
      ],
      "metadata": {
        "id": "BRI_CLrdEMPU"
      }
    },
    {
      "cell_type": "markdown",
      "source": [
        "In JAX, Sharding objects describe distributed memory layouts. They can be used with jax.device_put to produce a value with distributed layout.\n",
        "\n",
        "For example, here’s a value with a single-device Sharding:"
      ],
      "metadata": {
        "id": "0sQo07w4ExE4"
      }
    },
    {
      "cell_type": "code",
      "source": [
        "import jax\n",
        "x = jnp.arange(16).reshape(4,4)"
      ],
      "metadata": {
        "id": "NEzeMHyoDDCJ"
      },
      "execution_count": null,
      "outputs": []
    },
    {
      "cell_type": "markdown",
      "source": [
        "Here, we’re using the jax.debug.visualize_array_sharding function to show where the value x is stored in memory. All of x is stored on a single device, so the visualization is pretty boring!\n",
        "\n",
        "But we can shard x across multiple devices by using jax.device_put and a Sharding object. First, we make a numpy.ndarray of Devices using mesh_utils.create_device_mesh, which takes hardware topology into account for the Device order:"
      ],
      "metadata": {
        "id": "DhxQfDZk_CuL"
      }
    },
    {
      "cell_type": "code",
      "source": [
        "jax.debug.visualize_array_sharding(x)"
      ],
      "metadata": {
        "colab": {
          "base_uri": "https://localhost:8080/",
          "height": 199
        },
        "id": "rzyUODoDFGuJ",
        "outputId": "c56f6c35-6a22-4bb2-9ad1-14afe27323da"
      },
      "execution_count": null,
      "outputs": [
        {
          "output_type": "display_data",
          "data": {
            "text/plain": [
              "\u001b[38;2;255;255;255;48;2;57;59;121m                         \u001b[0m\n",
              "\u001b[38;2;255;255;255;48;2;57;59;121m                         \u001b[0m\n",
              "\u001b[38;2;255;255;255;48;2;57;59;121m                         \u001b[0m\n",
              "\u001b[38;2;255;255;255;48;2;57;59;121m                         \u001b[0m\n",
              "\u001b[38;2;255;255;255;48;2;57;59;121m                         \u001b[0m\n",
              "\u001b[38;2;255;255;255;48;2;57;59;121m          \u001b[0m\u001b[38;2;255;255;255;48;2;57;59;121mCPU 0\u001b[0m\u001b[38;2;255;255;255;48;2;57;59;121m          \u001b[0m\n",
              "\u001b[38;2;255;255;255;48;2;57;59;121m                         \u001b[0m\n",
              "\u001b[38;2;255;255;255;48;2;57;59;121m                         \u001b[0m\n",
              "\u001b[38;2;255;255;255;48;2;57;59;121m                         \u001b[0m\n",
              "\u001b[38;2;255;255;255;48;2;57;59;121m                         \u001b[0m\n",
              "\u001b[38;2;255;255;255;48;2;57;59;121m                         \u001b[0m\n"
            ],
            "text/html": [
              "<pre style=\"white-space:pre;overflow-x:auto;line-height:normal;font-family:Menlo,'DejaVu Sans Mono',consolas,'Courier New',monospace\"><span style=\"color: #ffffff; text-decoration-color: #ffffff; background-color: #393b79\">                         </span>\n",
              "<span style=\"color: #ffffff; text-decoration-color: #ffffff; background-color: #393b79\">                         </span>\n",
              "<span style=\"color: #ffffff; text-decoration-color: #ffffff; background-color: #393b79\">                         </span>\n",
              "<span style=\"color: #ffffff; text-decoration-color: #ffffff; background-color: #393b79\">                         </span>\n",
              "<span style=\"color: #ffffff; text-decoration-color: #ffffff; background-color: #393b79\">                         </span>\n",
              "<span style=\"color: #ffffff; text-decoration-color: #ffffff; background-color: #393b79\">          CPU 0          </span>\n",
              "<span style=\"color: #ffffff; text-decoration-color: #ffffff; background-color: #393b79\">                         </span>\n",
              "<span style=\"color: #ffffff; text-decoration-color: #ffffff; background-color: #393b79\">                         </span>\n",
              "<span style=\"color: #ffffff; text-decoration-color: #ffffff; background-color: #393b79\">                         </span>\n",
              "<span style=\"color: #ffffff; text-decoration-color: #ffffff; background-color: #393b79\">                         </span>\n",
              "<span style=\"color: #ffffff; text-decoration-color: #ffffff; background-color: #393b79\">                         </span>\n",
              "</pre>\n"
            ]
          },
          "metadata": {}
        }
      ]
    },
    {
      "cell_type": "code",
      "source": [
        "# Order our devices to respect our desired topology\n",
        "# this is important on TPUs to ensure hops are efficient\n",
        "devices = mesh_utils.create_device_mesh((4, 2))\n",
        "# create a mesh from our 8 devices and name both axes this can\n",
        "# be multi-dimensional, and extend to arbitary numbers of devices\n",
        "mesh = maps.Mesh(devices, axis_names=('x', 'y'))"
      ],
      "metadata": {
        "id": "5HiizL5qFOKz"
      },
      "execution_count": null,
      "outputs": []
    },
    {
      "cell_type": "code",
      "source": [
        "# batch is shaped [batch, embedding]\n",
        "# split batch over the x axis of our hardware mesh\n",
        "# similarly, we could split our model parameters \n",
        "y = jax.device_put(x, NamedSharding(mesh, P('x', 'y'))) # like A.x, B.y\n",
        "jax.debug.visualize_array_sharding(y)"
      ],
      "metadata": {
        "colab": {
          "base_uri": "https://localhost:8080/",
          "height": 215
        },
        "outputId": "87a9f3ae-fea1-42a7-bdd1-fef88323e617",
        "id": "xHDxYfmJFOKz"
      },
      "execution_count": null,
      "outputs": [
        {
          "output_type": "display_data",
          "data": {
            "text/plain": [
              "\u001b[38;2;255;255;255;48;2;57;59;121m            \u001b[0m\u001b[38;2;255;255;255;48;2;214;97;107m            \u001b[0m\n",
              "\u001b[38;2;255;255;255;48;2;57;59;121m   \u001b[0m\u001b[38;2;255;255;255;48;2;57;59;121mCPU 0\u001b[0m\u001b[38;2;255;255;255;48;2;57;59;121m    \u001b[0m\u001b[38;2;255;255;255;48;2;214;97;107m   \u001b[0m\u001b[38;2;255;255;255;48;2;214;97;107mCPU 1\u001b[0m\u001b[38;2;255;255;255;48;2;214;97;107m    \u001b[0m\n",
              "\u001b[38;2;255;255;255;48;2;57;59;121m            \u001b[0m\u001b[38;2;255;255;255;48;2;214;97;107m            \u001b[0m\n",
              "\u001b[38;2;255;255;255;48;2;140;162;82m            \u001b[0m\u001b[38;2;255;255;255;48;2;222;158;214m            \u001b[0m\n",
              "\u001b[38;2;255;255;255;48;2;140;162;82m   \u001b[0m\u001b[38;2;255;255;255;48;2;140;162;82mCPU 2\u001b[0m\u001b[38;2;255;255;255;48;2;140;162;82m    \u001b[0m\u001b[38;2;255;255;255;48;2;222;158;214m   \u001b[0m\u001b[38;2;255;255;255;48;2;222;158;214mCPU 3\u001b[0m\u001b[38;2;255;255;255;48;2;222;158;214m    \u001b[0m\n",
              "\u001b[38;2;255;255;255;48;2;140;162;82m            \u001b[0m\u001b[38;2;255;255;255;48;2;222;158;214m            \u001b[0m\n",
              "\u001b[38;2;0;0;0;48;2;231;203;148m            \u001b[0m\u001b[38;2;255;255;255;48;2;107;110;207m            \u001b[0m\n",
              "\u001b[38;2;0;0;0;48;2;231;203;148m   \u001b[0m\u001b[38;2;0;0;0;48;2;231;203;148mCPU 4\u001b[0m\u001b[38;2;0;0;0;48;2;231;203;148m    \u001b[0m\u001b[38;2;255;255;255;48;2;107;110;207m   \u001b[0m\u001b[38;2;255;255;255;48;2;107;110;207mCPU 5\u001b[0m\u001b[38;2;255;255;255;48;2;107;110;207m    \u001b[0m\n",
              "\u001b[38;2;0;0;0;48;2;231;203;148m            \u001b[0m\u001b[38;2;255;255;255;48;2;107;110;207m            \u001b[0m\n",
              "\u001b[38;2;255;255;255;48;2;165;81;148m            \u001b[0m\u001b[38;2;255;255;255;48;2;140;109;49m            \u001b[0m\n",
              "\u001b[38;2;255;255;255;48;2;165;81;148m   \u001b[0m\u001b[38;2;255;255;255;48;2;165;81;148mCPU 6\u001b[0m\u001b[38;2;255;255;255;48;2;165;81;148m    \u001b[0m\u001b[38;2;255;255;255;48;2;140;109;49m   \u001b[0m\u001b[38;2;255;255;255;48;2;140;109;49mCPU 7\u001b[0m\u001b[38;2;255;255;255;48;2;140;109;49m    \u001b[0m\n",
              "\u001b[38;2;255;255;255;48;2;165;81;148m            \u001b[0m\u001b[38;2;255;255;255;48;2;140;109;49m            \u001b[0m\n"
            ],
            "text/html": [
              "<pre style=\"white-space:pre;overflow-x:auto;line-height:normal;font-family:Menlo,'DejaVu Sans Mono',consolas,'Courier New',monospace\"><span style=\"color: #ffffff; text-decoration-color: #ffffff; background-color: #393b79\">            </span><span style=\"color: #ffffff; text-decoration-color: #ffffff; background-color: #d6616b\">            </span>\n",
              "<span style=\"color: #ffffff; text-decoration-color: #ffffff; background-color: #393b79\">   CPU 0    </span><span style=\"color: #ffffff; text-decoration-color: #ffffff; background-color: #d6616b\">   CPU 1    </span>\n",
              "<span style=\"color: #ffffff; text-decoration-color: #ffffff; background-color: #393b79\">            </span><span style=\"color: #ffffff; text-decoration-color: #ffffff; background-color: #d6616b\">            </span>\n",
              "<span style=\"color: #ffffff; text-decoration-color: #ffffff; background-color: #8ca252\">            </span><span style=\"color: #ffffff; text-decoration-color: #ffffff; background-color: #de9ed6\">            </span>\n",
              "<span style=\"color: #ffffff; text-decoration-color: #ffffff; background-color: #8ca252\">   CPU 2    </span><span style=\"color: #ffffff; text-decoration-color: #ffffff; background-color: #de9ed6\">   CPU 3    </span>\n",
              "<span style=\"color: #ffffff; text-decoration-color: #ffffff; background-color: #8ca252\">            </span><span style=\"color: #ffffff; text-decoration-color: #ffffff; background-color: #de9ed6\">            </span>\n",
              "<span style=\"color: #000000; text-decoration-color: #000000; background-color: #e7cb94\">            </span><span style=\"color: #ffffff; text-decoration-color: #ffffff; background-color: #6b6ecf\">            </span>\n",
              "<span style=\"color: #000000; text-decoration-color: #000000; background-color: #e7cb94\">   CPU 4    </span><span style=\"color: #ffffff; text-decoration-color: #ffffff; background-color: #6b6ecf\">   CPU 5    </span>\n",
              "<span style=\"color: #000000; text-decoration-color: #000000; background-color: #e7cb94\">            </span><span style=\"color: #ffffff; text-decoration-color: #ffffff; background-color: #6b6ecf\">            </span>\n",
              "<span style=\"color: #ffffff; text-decoration-color: #ffffff; background-color: #a55194\">            </span><span style=\"color: #ffffff; text-decoration-color: #ffffff; background-color: #8c6d31\">            </span>\n",
              "<span style=\"color: #ffffff; text-decoration-color: #ffffff; background-color: #a55194\">   CPU 6    </span><span style=\"color: #ffffff; text-decoration-color: #ffffff; background-color: #8c6d31\">   CPU 7    </span>\n",
              "<span style=\"color: #ffffff; text-decoration-color: #ffffff; background-color: #a55194\">            </span><span style=\"color: #ffffff; text-decoration-color: #ffffff; background-color: #8c6d31\">            </span>\n",
              "</pre>\n"
            ]
          },
          "metadata": {}
        }
      ]
    },
    {
      "cell_type": "code",
      "source": [
        "print(y)"
      ],
      "metadata": {
        "colab": {
          "base_uri": "https://localhost:8080/"
        },
        "id": "naay-MnfHZNe",
        "outputId": "273cc4d7-c20d-4ec6-e2f9-8ee93dd50f21"
      },
      "execution_count": null,
      "outputs": [
        {
          "output_type": "stream",
          "name": "stdout",
          "text": [
            "[[ 0  1  2  3]\n",
            " [ 4  5  6  7]\n",
            " [ 8  9 10 11]\n",
            " [12 13 14 15]]\n"
          ]
        }
      ]
    },
    {
      "cell_type": "code",
      "source": [
        "print(y.device_buffers[0]) # this is what is actually on our first device"
      ],
      "metadata": {
        "colab": {
          "base_uri": "https://localhost:8080/"
        },
        "id": "JiQBqAvkHau9",
        "outputId": "12368728-b23c-4004-d158-3f2b85eebe60"
      },
      "execution_count": null,
      "outputs": [
        {
          "output_type": "stream",
          "name": "stdout",
          "text": [
            "[[0 1]]\n"
          ]
        }
      ]
    },
    {
      "cell_type": "markdown",
      "source": [
        "Computation now follows the tensors. If we call a function on distributed tensors, the computation and results will all be distributed"
      ],
      "metadata": {
        "id": "vdgPqo8-Fco-"
      }
    },
    {
      "cell_type": "code",
      "source": [
        "z = jnp.sin(y)\n",
        "jax.debug.visualize_array_sharding(z)"
      ],
      "metadata": {
        "colab": {
          "base_uri": "https://localhost:8080/",
          "height": 215
        },
        "id": "6WJAyPqxFjzj",
        "outputId": "e72031b4-ffaf-49b8-a2f0-058f382196ea"
      },
      "execution_count": null,
      "outputs": [
        {
          "output_type": "display_data",
          "data": {
            "text/plain": [
              "\u001b[38;2;255;255;255;48;2;57;59;121m            \u001b[0m\u001b[38;2;255;255;255;48;2;214;97;107m            \u001b[0m\n",
              "\u001b[38;2;255;255;255;48;2;57;59;121m   \u001b[0m\u001b[38;2;255;255;255;48;2;57;59;121mCPU 0\u001b[0m\u001b[38;2;255;255;255;48;2;57;59;121m    \u001b[0m\u001b[38;2;255;255;255;48;2;214;97;107m   \u001b[0m\u001b[38;2;255;255;255;48;2;214;97;107mCPU 1\u001b[0m\u001b[38;2;255;255;255;48;2;214;97;107m    \u001b[0m\n",
              "\u001b[38;2;255;255;255;48;2;57;59;121m            \u001b[0m\u001b[38;2;255;255;255;48;2;214;97;107m            \u001b[0m\n",
              "\u001b[38;2;255;255;255;48;2;140;162;82m            \u001b[0m\u001b[38;2;255;255;255;48;2;222;158;214m            \u001b[0m\n",
              "\u001b[38;2;255;255;255;48;2;140;162;82m   \u001b[0m\u001b[38;2;255;255;255;48;2;140;162;82mCPU 2\u001b[0m\u001b[38;2;255;255;255;48;2;140;162;82m    \u001b[0m\u001b[38;2;255;255;255;48;2;222;158;214m   \u001b[0m\u001b[38;2;255;255;255;48;2;222;158;214mCPU 3\u001b[0m\u001b[38;2;255;255;255;48;2;222;158;214m    \u001b[0m\n",
              "\u001b[38;2;255;255;255;48;2;140;162;82m            \u001b[0m\u001b[38;2;255;255;255;48;2;222;158;214m            \u001b[0m\n",
              "\u001b[38;2;0;0;0;48;2;231;203;148m            \u001b[0m\u001b[38;2;255;255;255;48;2;107;110;207m            \u001b[0m\n",
              "\u001b[38;2;0;0;0;48;2;231;203;148m   \u001b[0m\u001b[38;2;0;0;0;48;2;231;203;148mCPU 4\u001b[0m\u001b[38;2;0;0;0;48;2;231;203;148m    \u001b[0m\u001b[38;2;255;255;255;48;2;107;110;207m   \u001b[0m\u001b[38;2;255;255;255;48;2;107;110;207mCPU 5\u001b[0m\u001b[38;2;255;255;255;48;2;107;110;207m    \u001b[0m\n",
              "\u001b[38;2;0;0;0;48;2;231;203;148m            \u001b[0m\u001b[38;2;255;255;255;48;2;107;110;207m            \u001b[0m\n",
              "\u001b[38;2;255;255;255;48;2;165;81;148m            \u001b[0m\u001b[38;2;255;255;255;48;2;140;109;49m            \u001b[0m\n",
              "\u001b[38;2;255;255;255;48;2;165;81;148m   \u001b[0m\u001b[38;2;255;255;255;48;2;165;81;148mCPU 6\u001b[0m\u001b[38;2;255;255;255;48;2;165;81;148m    \u001b[0m\u001b[38;2;255;255;255;48;2;140;109;49m   \u001b[0m\u001b[38;2;255;255;255;48;2;140;109;49mCPU 7\u001b[0m\u001b[38;2;255;255;255;48;2;140;109;49m    \u001b[0m\n",
              "\u001b[38;2;255;255;255;48;2;165;81;148m            \u001b[0m\u001b[38;2;255;255;255;48;2;140;109;49m            \u001b[0m\n"
            ],
            "text/html": [
              "<pre style=\"white-space:pre;overflow-x:auto;line-height:normal;font-family:Menlo,'DejaVu Sans Mono',consolas,'Courier New',monospace\"><span style=\"color: #ffffff; text-decoration-color: #ffffff; background-color: #393b79\">            </span><span style=\"color: #ffffff; text-decoration-color: #ffffff; background-color: #d6616b\">            </span>\n",
              "<span style=\"color: #ffffff; text-decoration-color: #ffffff; background-color: #393b79\">   CPU 0    </span><span style=\"color: #ffffff; text-decoration-color: #ffffff; background-color: #d6616b\">   CPU 1    </span>\n",
              "<span style=\"color: #ffffff; text-decoration-color: #ffffff; background-color: #393b79\">            </span><span style=\"color: #ffffff; text-decoration-color: #ffffff; background-color: #d6616b\">            </span>\n",
              "<span style=\"color: #ffffff; text-decoration-color: #ffffff; background-color: #8ca252\">            </span><span style=\"color: #ffffff; text-decoration-color: #ffffff; background-color: #de9ed6\">            </span>\n",
              "<span style=\"color: #ffffff; text-decoration-color: #ffffff; background-color: #8ca252\">   CPU 2    </span><span style=\"color: #ffffff; text-decoration-color: #ffffff; background-color: #de9ed6\">   CPU 3    </span>\n",
              "<span style=\"color: #ffffff; text-decoration-color: #ffffff; background-color: #8ca252\">            </span><span style=\"color: #ffffff; text-decoration-color: #ffffff; background-color: #de9ed6\">            </span>\n",
              "<span style=\"color: #000000; text-decoration-color: #000000; background-color: #e7cb94\">            </span><span style=\"color: #ffffff; text-decoration-color: #ffffff; background-color: #6b6ecf\">            </span>\n",
              "<span style=\"color: #000000; text-decoration-color: #000000; background-color: #e7cb94\">   CPU 4    </span><span style=\"color: #ffffff; text-decoration-color: #ffffff; background-color: #6b6ecf\">   CPU 5    </span>\n",
              "<span style=\"color: #000000; text-decoration-color: #000000; background-color: #e7cb94\">            </span><span style=\"color: #ffffff; text-decoration-color: #ffffff; background-color: #6b6ecf\">            </span>\n",
              "<span style=\"color: #ffffff; text-decoration-color: #ffffff; background-color: #a55194\">            </span><span style=\"color: #ffffff; text-decoration-color: #ffffff; background-color: #8c6d31\">            </span>\n",
              "<span style=\"color: #ffffff; text-decoration-color: #ffffff; background-color: #a55194\">   CPU 6    </span><span style=\"color: #ffffff; text-decoration-color: #ffffff; background-color: #8c6d31\">   CPU 7    </span>\n",
              "<span style=\"color: #ffffff; text-decoration-color: #ffffff; background-color: #a55194\">            </span><span style=\"color: #ffffff; text-decoration-color: #ffffff; background-color: #8c6d31\">            </span>\n",
              "</pre>\n"
            ]
          },
          "metadata": {}
        }
      ]
    },
    {
      "cell_type": "markdown",
      "source": [
        "If you don't shard one of the dimensions, it is implictly 'replicated' i.e. copied across that dimension. You do this by specifying None for that dimension."
      ],
      "metadata": {
        "id": "M8kdrekCFqAj"
      }
    },
    {
      "cell_type": "code",
      "source": [
        "y = jax.device_put(x, NamedSharding(mesh, P('x', None))) # like A.x, B.y\n",
        "jax.debug.visualize_array_sharding(y)"
      ],
      "metadata": {
        "colab": {
          "base_uri": "https://localhost:8080/",
          "height": 215
        },
        "id": "BB4dEjaGFxl3",
        "outputId": "a32b7b19-fa04-458f-b627-4289705f48d3"
      },
      "execution_count": null,
      "outputs": [
        {
          "output_type": "display_data",
          "data": {
            "text/plain": [
              "\u001b[38;2;255;255;255;48;2;57;59;121m                         \u001b[0m\n",
              "\u001b[38;2;255;255;255;48;2;57;59;121m         \u001b[0m\u001b[38;2;255;255;255;48;2;57;59;121mCPU 0,1\u001b[0m\u001b[38;2;255;255;255;48;2;57;59;121m         \u001b[0m\n",
              "\u001b[38;2;255;255;255;48;2;57;59;121m                         \u001b[0m\n",
              "\u001b[38;2;255;255;255;48;2;222;158;214m                         \u001b[0m\n",
              "\u001b[38;2;255;255;255;48;2;222;158;214m         \u001b[0m\u001b[38;2;255;255;255;48;2;222;158;214mCPU 2,3\u001b[0m\u001b[38;2;255;255;255;48;2;222;158;214m         \u001b[0m\n",
              "\u001b[38;2;255;255;255;48;2;222;158;214m                         \u001b[0m\n",
              "\u001b[38;2;255;255;255;48;2;173;73;74m                         \u001b[0m\n",
              "\u001b[38;2;255;255;255;48;2;173;73;74m         \u001b[0m\u001b[38;2;255;255;255;48;2;173;73;74mCPU 4,5\u001b[0m\u001b[38;2;255;255;255;48;2;173;73;74m         \u001b[0m\n",
              "\u001b[38;2;255;255;255;48;2;173;73;74m                         \u001b[0m\n",
              "\u001b[38;2;0;0;0;48;2;181;207;107m                         \u001b[0m\n",
              "\u001b[38;2;0;0;0;48;2;181;207;107m         \u001b[0m\u001b[38;2;0;0;0;48;2;181;207;107mCPU 6,7\u001b[0m\u001b[38;2;0;0;0;48;2;181;207;107m         \u001b[0m\n",
              "\u001b[38;2;0;0;0;48;2;181;207;107m                         \u001b[0m\n"
            ],
            "text/html": [
              "<pre style=\"white-space:pre;overflow-x:auto;line-height:normal;font-family:Menlo,'DejaVu Sans Mono',consolas,'Courier New',monospace\"><span style=\"color: #ffffff; text-decoration-color: #ffffff; background-color: #393b79\">                         </span>\n",
              "<span style=\"color: #ffffff; text-decoration-color: #ffffff; background-color: #393b79\">         CPU 0,1         </span>\n",
              "<span style=\"color: #ffffff; text-decoration-color: #ffffff; background-color: #393b79\">                         </span>\n",
              "<span style=\"color: #ffffff; text-decoration-color: #ffffff; background-color: #de9ed6\">                         </span>\n",
              "<span style=\"color: #ffffff; text-decoration-color: #ffffff; background-color: #de9ed6\">         CPU 2,3         </span>\n",
              "<span style=\"color: #ffffff; text-decoration-color: #ffffff; background-color: #de9ed6\">                         </span>\n",
              "<span style=\"color: #ffffff; text-decoration-color: #ffffff; background-color: #ad494a\">                         </span>\n",
              "<span style=\"color: #ffffff; text-decoration-color: #ffffff; background-color: #ad494a\">         CPU 4,5         </span>\n",
              "<span style=\"color: #ffffff; text-decoration-color: #ffffff; background-color: #ad494a\">                         </span>\n",
              "<span style=\"color: #000000; text-decoration-color: #000000; background-color: #b5cf6b\">                         </span>\n",
              "<span style=\"color: #000000; text-decoration-color: #000000; background-color: #b5cf6b\">         CPU 6,7         </span>\n",
              "<span style=\"color: #000000; text-decoration-color: #000000; background-color: #b5cf6b\">                         </span>\n",
              "</pre>\n"
            ]
          },
          "metadata": {}
        }
      ]
    },
    {
      "cell_type": "markdown",
      "source": [
        "The compiler automatically handles how to do communication if distributed tensors require it for the computation."
      ],
      "metadata": {
        "id": "fWokuiXT_DA3"
      }
    },
    {
      "cell_type": "code",
      "source": [
        "y = jax.device_put(x, NamedSharding(mesh, P('x', None)))\n",
        "z = jax.device_put(x, NamedSharding(mesh, P(None, 'y')))\n",
        "print('lhs sharding:')\n",
        "jax.debug.visualize_array_sharding(y)\n",
        "print('rhs sharding:')\n",
        "jax.debug.visualize_array_sharding(z)\n",
        "\n",
        "w = jnp.dot(y, z)\n",
        "print('out sharding:')\n",
        "jax.debug.visualize_array_sharding(w)"
      ],
      "metadata": {
        "colab": {
          "base_uri": "https://localhost:8080/",
          "height": 647
        },
        "id": "SP1EJG8M--g9",
        "outputId": "ff75da2f-c2a0-4556-e32d-1c3eb1ae3ff8"
      },
      "execution_count": null,
      "outputs": [
        {
          "output_type": "stream",
          "name": "stdout",
          "text": [
            "lhs sharding:\n"
          ]
        },
        {
          "output_type": "display_data",
          "data": {
            "text/plain": [
              "\u001b[38;2;255;255;255;48;2;57;59;121m                         \u001b[0m\n",
              "\u001b[38;2;255;255;255;48;2;57;59;121m         \u001b[0m\u001b[38;2;255;255;255;48;2;57;59;121mCPU 0,1\u001b[0m\u001b[38;2;255;255;255;48;2;57;59;121m         \u001b[0m\n",
              "\u001b[38;2;255;255;255;48;2;57;59;121m                         \u001b[0m\n",
              "\u001b[38;2;255;255;255;48;2;222;158;214m                         \u001b[0m\n",
              "\u001b[38;2;255;255;255;48;2;222;158;214m         \u001b[0m\u001b[38;2;255;255;255;48;2;222;158;214mCPU 2,3\u001b[0m\u001b[38;2;255;255;255;48;2;222;158;214m         \u001b[0m\n",
              "\u001b[38;2;255;255;255;48;2;222;158;214m                         \u001b[0m\n",
              "\u001b[38;2;255;255;255;48;2;173;73;74m                         \u001b[0m\n",
              "\u001b[38;2;255;255;255;48;2;173;73;74m         \u001b[0m\u001b[38;2;255;255;255;48;2;173;73;74mCPU 4,5\u001b[0m\u001b[38;2;255;255;255;48;2;173;73;74m         \u001b[0m\n",
              "\u001b[38;2;255;255;255;48;2;173;73;74m                         \u001b[0m\n",
              "\u001b[38;2;0;0;0;48;2;181;207;107m                         \u001b[0m\n",
              "\u001b[38;2;0;0;0;48;2;181;207;107m         \u001b[0m\u001b[38;2;0;0;0;48;2;181;207;107mCPU 6,7\u001b[0m\u001b[38;2;0;0;0;48;2;181;207;107m         \u001b[0m\n",
              "\u001b[38;2;0;0;0;48;2;181;207;107m                         \u001b[0m\n"
            ],
            "text/html": [
              "<pre style=\"white-space:pre;overflow-x:auto;line-height:normal;font-family:Menlo,'DejaVu Sans Mono',consolas,'Courier New',monospace\"><span style=\"color: #ffffff; text-decoration-color: #ffffff; background-color: #393b79\">                         </span>\n",
              "<span style=\"color: #ffffff; text-decoration-color: #ffffff; background-color: #393b79\">         CPU 0,1         </span>\n",
              "<span style=\"color: #ffffff; text-decoration-color: #ffffff; background-color: #393b79\">                         </span>\n",
              "<span style=\"color: #ffffff; text-decoration-color: #ffffff; background-color: #de9ed6\">                         </span>\n",
              "<span style=\"color: #ffffff; text-decoration-color: #ffffff; background-color: #de9ed6\">         CPU 2,3         </span>\n",
              "<span style=\"color: #ffffff; text-decoration-color: #ffffff; background-color: #de9ed6\">                         </span>\n",
              "<span style=\"color: #ffffff; text-decoration-color: #ffffff; background-color: #ad494a\">                         </span>\n",
              "<span style=\"color: #ffffff; text-decoration-color: #ffffff; background-color: #ad494a\">         CPU 4,5         </span>\n",
              "<span style=\"color: #ffffff; text-decoration-color: #ffffff; background-color: #ad494a\">                         </span>\n",
              "<span style=\"color: #000000; text-decoration-color: #000000; background-color: #b5cf6b\">                         </span>\n",
              "<span style=\"color: #000000; text-decoration-color: #000000; background-color: #b5cf6b\">         CPU 6,7         </span>\n",
              "<span style=\"color: #000000; text-decoration-color: #000000; background-color: #b5cf6b\">                         </span>\n",
              "</pre>\n"
            ]
          },
          "metadata": {}
        },
        {
          "output_type": "stream",
          "name": "stdout",
          "text": [
            "rhs sharding:\n"
          ]
        },
        {
          "output_type": "display_data",
          "data": {
            "text/plain": [
              "\u001b[38;2;255;255;255;48;2;57;59;121m            \u001b[0m\u001b[38;2;255;255;255;48;2;57;59;121m            \u001b[0m\n",
              "\u001b[38;2;255;255;255;48;2;57;59;121m            \u001b[0m\u001b[38;2;255;255;255;48;2;57;59;121m            \u001b[0m\n",
              "\u001b[38;2;255;255;255;48;2;57;59;121m            \u001b[0m\u001b[38;2;255;255;255;48;2;57;59;121m            \u001b[0m\n",
              "\u001b[38;2;255;255;255;48;2;57;59;121m            \u001b[0m\u001b[38;2;255;255;255;48;2;57;59;121m            \u001b[0m\n",
              "\u001b[38;2;255;255;255;48;2;57;59;121m            \u001b[0m\u001b[38;2;255;255;255;48;2;57;59;121m            \u001b[0m\n",
              "\u001b[38;2;255;255;255;48;2;57;59;121mCPU 0,2,4,6\u001b[0m\u001b[38;2;255;255;255;48;2;57;59;121m \u001b[0m\u001b[38;2;255;255;255;48;2;57;59;121mCPU 1,3,5,7\u001b[0m\u001b[38;2;255;255;255;48;2;57;59;121m \u001b[0m\n",
              "\u001b[38;2;255;255;255;48;2;57;59;121m            \u001b[0m\u001b[38;2;255;255;255;48;2;57;59;121m            \u001b[0m\n",
              "\u001b[38;2;255;255;255;48;2;57;59;121m            \u001b[0m\u001b[38;2;255;255;255;48;2;57;59;121m            \u001b[0m\n",
              "\u001b[38;2;255;255;255;48;2;57;59;121m            \u001b[0m\u001b[38;2;255;255;255;48;2;57;59;121m            \u001b[0m\n",
              "\u001b[38;2;255;255;255;48;2;57;59;121m            \u001b[0m\u001b[38;2;255;255;255;48;2;57;59;121m            \u001b[0m\n",
              "\u001b[38;2;255;255;255;48;2;57;59;121m            \u001b[0m\u001b[38;2;255;255;255;48;2;57;59;121m            \u001b[0m\n"
            ],
            "text/html": [
              "<pre style=\"white-space:pre;overflow-x:auto;line-height:normal;font-family:Menlo,'DejaVu Sans Mono',consolas,'Courier New',monospace\"><span style=\"color: #ffffff; text-decoration-color: #ffffff; background-color: #393b79\">                        </span>\n",
              "<span style=\"color: #ffffff; text-decoration-color: #ffffff; background-color: #393b79\">                        </span>\n",
              "<span style=\"color: #ffffff; text-decoration-color: #ffffff; background-color: #393b79\">                        </span>\n",
              "<span style=\"color: #ffffff; text-decoration-color: #ffffff; background-color: #393b79\">                        </span>\n",
              "<span style=\"color: #ffffff; text-decoration-color: #ffffff; background-color: #393b79\">                        </span>\n",
              "<span style=\"color: #ffffff; text-decoration-color: #ffffff; background-color: #393b79\">CPU 0,2,4,6 CPU 1,3,5,7 </span>\n",
              "<span style=\"color: #ffffff; text-decoration-color: #ffffff; background-color: #393b79\">                        </span>\n",
              "<span style=\"color: #ffffff; text-decoration-color: #ffffff; background-color: #393b79\">                        </span>\n",
              "<span style=\"color: #ffffff; text-decoration-color: #ffffff; background-color: #393b79\">                        </span>\n",
              "<span style=\"color: #ffffff; text-decoration-color: #ffffff; background-color: #393b79\">                        </span>\n",
              "<span style=\"color: #ffffff; text-decoration-color: #ffffff; background-color: #393b79\">                        </span>\n",
              "</pre>\n"
            ]
          },
          "metadata": {}
        },
        {
          "output_type": "stream",
          "name": "stdout",
          "text": [
            "out sharding:\n"
          ]
        },
        {
          "output_type": "display_data",
          "data": {
            "text/plain": [
              "\u001b[38;2;255;255;255;48;2;57;59;121m            \u001b[0m\u001b[38;2;255;255;255;48;2;214;97;107m            \u001b[0m\n",
              "\u001b[38;2;255;255;255;48;2;57;59;121m   \u001b[0m\u001b[38;2;255;255;255;48;2;57;59;121mCPU 0\u001b[0m\u001b[38;2;255;255;255;48;2;57;59;121m    \u001b[0m\u001b[38;2;255;255;255;48;2;214;97;107m   \u001b[0m\u001b[38;2;255;255;255;48;2;214;97;107mCPU 1\u001b[0m\u001b[38;2;255;255;255;48;2;214;97;107m    \u001b[0m\n",
              "\u001b[38;2;255;255;255;48;2;57;59;121m            \u001b[0m\u001b[38;2;255;255;255;48;2;214;97;107m            \u001b[0m\n",
              "\u001b[38;2;255;255;255;48;2;140;162;82m            \u001b[0m\u001b[38;2;255;255;255;48;2;222;158;214m            \u001b[0m\n",
              "\u001b[38;2;255;255;255;48;2;140;162;82m   \u001b[0m\u001b[38;2;255;255;255;48;2;140;162;82mCPU 2\u001b[0m\u001b[38;2;255;255;255;48;2;140;162;82m    \u001b[0m\u001b[38;2;255;255;255;48;2;222;158;214m   \u001b[0m\u001b[38;2;255;255;255;48;2;222;158;214mCPU 3\u001b[0m\u001b[38;2;255;255;255;48;2;222;158;214m    \u001b[0m\n",
              "\u001b[38;2;255;255;255;48;2;140;162;82m            \u001b[0m\u001b[38;2;255;255;255;48;2;222;158;214m            \u001b[0m\n",
              "\u001b[38;2;0;0;0;48;2;231;203;148m            \u001b[0m\u001b[38;2;255;255;255;48;2;107;110;207m            \u001b[0m\n",
              "\u001b[38;2;0;0;0;48;2;231;203;148m   \u001b[0m\u001b[38;2;0;0;0;48;2;231;203;148mCPU 4\u001b[0m\u001b[38;2;0;0;0;48;2;231;203;148m    \u001b[0m\u001b[38;2;255;255;255;48;2;107;110;207m   \u001b[0m\u001b[38;2;255;255;255;48;2;107;110;207mCPU 5\u001b[0m\u001b[38;2;255;255;255;48;2;107;110;207m    \u001b[0m\n",
              "\u001b[38;2;0;0;0;48;2;231;203;148m            \u001b[0m\u001b[38;2;255;255;255;48;2;107;110;207m            \u001b[0m\n",
              "\u001b[38;2;255;255;255;48;2;165;81;148m            \u001b[0m\u001b[38;2;255;255;255;48;2;140;109;49m            \u001b[0m\n",
              "\u001b[38;2;255;255;255;48;2;165;81;148m   \u001b[0m\u001b[38;2;255;255;255;48;2;165;81;148mCPU 6\u001b[0m\u001b[38;2;255;255;255;48;2;165;81;148m    \u001b[0m\u001b[38;2;255;255;255;48;2;140;109;49m   \u001b[0m\u001b[38;2;255;255;255;48;2;140;109;49mCPU 7\u001b[0m\u001b[38;2;255;255;255;48;2;140;109;49m    \u001b[0m\n",
              "\u001b[38;2;255;255;255;48;2;165;81;148m            \u001b[0m\u001b[38;2;255;255;255;48;2;140;109;49m            \u001b[0m\n"
            ],
            "text/html": [
              "<pre style=\"white-space:pre;overflow-x:auto;line-height:normal;font-family:Menlo,'DejaVu Sans Mono',consolas,'Courier New',monospace\"><span style=\"color: #ffffff; text-decoration-color: #ffffff; background-color: #393b79\">            </span><span style=\"color: #ffffff; text-decoration-color: #ffffff; background-color: #d6616b\">            </span>\n",
              "<span style=\"color: #ffffff; text-decoration-color: #ffffff; background-color: #393b79\">   CPU 0    </span><span style=\"color: #ffffff; text-decoration-color: #ffffff; background-color: #d6616b\">   CPU 1    </span>\n",
              "<span style=\"color: #ffffff; text-decoration-color: #ffffff; background-color: #393b79\">            </span><span style=\"color: #ffffff; text-decoration-color: #ffffff; background-color: #d6616b\">            </span>\n",
              "<span style=\"color: #ffffff; text-decoration-color: #ffffff; background-color: #8ca252\">            </span><span style=\"color: #ffffff; text-decoration-color: #ffffff; background-color: #de9ed6\">            </span>\n",
              "<span style=\"color: #ffffff; text-decoration-color: #ffffff; background-color: #8ca252\">   CPU 2    </span><span style=\"color: #ffffff; text-decoration-color: #ffffff; background-color: #de9ed6\">   CPU 3    </span>\n",
              "<span style=\"color: #ffffff; text-decoration-color: #ffffff; background-color: #8ca252\">            </span><span style=\"color: #ffffff; text-decoration-color: #ffffff; background-color: #de9ed6\">            </span>\n",
              "<span style=\"color: #000000; text-decoration-color: #000000; background-color: #e7cb94\">            </span><span style=\"color: #ffffff; text-decoration-color: #ffffff; background-color: #6b6ecf\">            </span>\n",
              "<span style=\"color: #000000; text-decoration-color: #000000; background-color: #e7cb94\">   CPU 4    </span><span style=\"color: #ffffff; text-decoration-color: #ffffff; background-color: #6b6ecf\">   CPU 5    </span>\n",
              "<span style=\"color: #000000; text-decoration-color: #000000; background-color: #e7cb94\">            </span><span style=\"color: #ffffff; text-decoration-color: #ffffff; background-color: #6b6ecf\">            </span>\n",
              "<span style=\"color: #ffffff; text-decoration-color: #ffffff; background-color: #a55194\">            </span><span style=\"color: #ffffff; text-decoration-color: #ffffff; background-color: #8c6d31\">            </span>\n",
              "<span style=\"color: #ffffff; text-decoration-color: #ffffff; background-color: #a55194\">   CPU 6    </span><span style=\"color: #ffffff; text-decoration-color: #ffffff; background-color: #8c6d31\">   CPU 7    </span>\n",
              "<span style=\"color: #ffffff; text-decoration-color: #ffffff; background-color: #a55194\">            </span><span style=\"color: #ffffff; text-decoration-color: #ffffff; background-color: #8c6d31\">            </span>\n",
              "</pre>\n"
            ]
          },
          "metadata": {}
        }
      ]
    },
    {
      "cell_type": "code",
      "source": [
        "w, w.device_buffers[0]"
      ],
      "metadata": {
        "colab": {
          "base_uri": "https://localhost:8080/"
        },
        "id": "M5uwVpJ5-S-L",
        "outputId": "8080d9f8-3796-4fc5-ac7e-f3012b497d22"
      },
      "execution_count": null,
      "outputs": [
        {
          "output_type": "execute_result",
          "data": {
            "text/plain": [
              "(Array([[ 56,  62,  68,  74],\n",
              "        [152, 174, 196, 218],\n",
              "        [248, 286, 324, 362],\n",
              "        [344, 398, 452, 506]], dtype=int32), Array([[56, 62]], dtype=int32))"
            ]
          },
          "metadata": {},
          "execution_count": 47
        }
      ]
    },
    {
      "cell_type": "markdown",
      "source": [
        "What is actually happening under the hood?\n",
        "\n",
        "You'll notice if we do y @ z, its a pretty simple program because it is all chip local! But if we do z @ y, then the compiler inserts 'all-gathers' for us under the hood, communicating data across chips."
      ],
      "metadata": {
        "id": "rQXOYOafH3bP"
      }
    },
    {
      "cell_type": "code",
      "source": [
        "print(jax.jit(jnp.dot).lower(z, y).compile().as_text())"
      ],
      "metadata": {
        "colab": {
          "base_uri": "https://localhost:8080/"
        },
        "id": "deAsWJShH8Np",
        "outputId": "e0adaf63-c33e-469d-d597-40e2b4219ab7"
      },
      "execution_count": null,
      "outputs": [
        {
          "output_type": "stream",
          "name": "stdout",
          "text": [
            "HloModule jit_dot, entry_computation_layout={(s32[4,2]{1,0},s32[1,4]{1,0})->s32[4,4]{1,0}}, allow_spmd_sharding_propagation_to_output=true\n",
            "\n",
            "%add (x: s32[], y: s32[]) -> s32[] {\n",
            "  %x = s32[] parameter(0)\n",
            "  %y = s32[] parameter(1)\n",
            "  ROOT %add.1 = s32[] add(s32[] %x, s32[] %y)\n",
            "}\n",
            "\n",
            "%add.1 (x.1: s32[], y.1: s32[]) -> s32[] {\n",
            "  %x.1 = s32[] parameter(0)\n",
            "  %y.1 = s32[] parameter(1)\n",
            "  ROOT %add.3 = s32[] add(s32[] %x.1, s32[] %y.1)\n",
            "}\n",
            "\n",
            "%fused_computation (param_0.1: s32[1,4], param_1.1: u32[], param_2.3: u32[]) -> s32[4,4] {\n",
            "  %constant.13 = s32[] constant(0)\n",
            "  %broadcast.2 = s32[4,4]{1,0} broadcast(s32[] %constant.13), dimensions={}\n",
            "  %param_0.1 = s32[1,4]{1,0} parameter(0)\n",
            "  %constant.10 = u32[8]{0} constant({0, 0, 1, 1, 2, 2, 3, 3})\n",
            "  %param_2.3 = u32[] parameter(2)\n",
            "  %constant.11 = u32[] constant(8)\n",
            "  %multiply.4 = u32[] multiply(u32[] %param_2.3, u32[] %constant.11)\n",
            "  %param_1.1 = u32[] parameter(1)\n",
            "  %add.4 = u32[] add(u32[] %multiply.4, u32[] %param_1.1)\n",
            "  %dynamic-slice.2 = u32[1]{0} dynamic-slice(u32[8]{0} %constant.10, u32[] %add.4), dynamic_slice_sizes={1}\n",
            "  %reshape.2 = u32[] reshape(u32[1]{0} %dynamic-slice.2)\n",
            "  %constant.12 = u32[] constant(0)\n",
            "  ROOT %dynamic-update-slice.2 = s32[4,4]{1,0} dynamic-update-slice(s32[4,4]{1,0} %broadcast.2, s32[1,4]{1,0} %param_0.1, u32[] %reshape.2, u32[] %constant.12)\n",
            "}\n",
            "\n",
            "%fused_computation.1 (param_0.3: s32[4,2], param_1.3: u32[], param_2.6: u32[]) -> s32[4,4] {\n",
            "  %constant.18 = s32[] constant(0)\n",
            "  %broadcast.3 = s32[4,4]{1,0} broadcast(s32[] %constant.18), dimensions={}\n",
            "  %param_0.3 = s32[4,2]{1,0} parameter(0)\n",
            "  %constant.17 = u32[] constant(0)\n",
            "  %constant.16 = u32[8]{0} constant({0, 1, 0, 1, 0, 1, 0, 1})\n",
            "  %param_2.6 = u32[] parameter(2)\n",
            "  %constant.15 = u32[] constant(8)\n",
            "  %multiply.6 = u32[] multiply(u32[] %param_2.6, u32[] %constant.15)\n",
            "  %param_1.3 = u32[] parameter(1)\n",
            "  %add.5 = u32[] add(u32[] %multiply.6, u32[] %param_1.3)\n",
            "  %dynamic-slice.3 = u32[1]{0} dynamic-slice(u32[8]{0} %constant.16, u32[] %add.5), dynamic_slice_sizes={1}\n",
            "  %reshape.3 = u32[] reshape(u32[1]{0} %dynamic-slice.3)\n",
            "  %constant.14 = u32[] constant(2)\n",
            "  %multiply.5 = u32[] multiply(u32[] %reshape.3, u32[] %constant.14)\n",
            "  ROOT %dynamic-update-slice.3 = s32[4,4]{1,0} dynamic-update-slice(s32[4,4]{1,0} %broadcast.3, s32[4,2]{1,0} %param_0.3, u32[] %constant.17, u32[] %multiply.5)\n",
            "}\n",
            "\n",
            "ENTRY %main.4_spmd (param: s32[4,2], param.1: s32[1,4]) -> s32[4,4] {\n",
            "  %param = s32[4,2]{1,0} parameter(0), sharding={devices=[1,2,4]0,2,4,6,1,3,5,7 last_tile_dim_replicate}\n",
            "  %partition-id.1 = u32[] partition-id()\n",
            "  %replica-id = u32[] replica-id()\n",
            "  %fusion.1 = s32[4,4]{1,0} fusion(s32[4,2]{1,0} %param, u32[] %partition-id.1, u32[] %replica-id), kind=kLoop, calls=%fused_computation.1\n",
            "  %all-reduce = s32[4,4]{1,0} all-reduce(s32[4,4]{1,0} %fusion.1), channel_id=2, replica_groups={{0,1},{2,3},{4,5},{6,7}}, use_global_device_ids=true, to_apply=%add\n",
            "  %param.1 = s32[1,4]{1,0} parameter(1), sharding={devices=[4,1,2]0,1,2,3,4,5,6,7 last_tile_dim_replicate}\n",
            "  %fusion = s32[4,4]{1,0} fusion(s32[1,4]{1,0} %param.1, u32[] %partition-id.1, u32[] %replica-id), kind=kLoop, calls=%fused_computation\n",
            "  %all-reduce.1 = s32[4,4]{1,0} all-reduce(s32[4,4]{1,0} %fusion), channel_id=1, replica_groups={{0,2,4,6},{1,3,5,7}}, use_global_device_ids=true, to_apply=%add.1\n",
            "  ROOT %dot = s32[4,4]{1,0} dot(s32[4,4]{1,0} %all-reduce, s32[4,4]{1,0} %all-reduce.1), lhs_contracting_dims={1}, rhs_contracting_dims={0}, metadata={op_name=\"jit(dot)/jit(main)/dot_general[dimension_numbers=(((1,), (0,)), ((), ())) precision=None preferred_element_type=None]\" source_file=\"<ipython-input-48-e74b4e18a7c8>\" source_line=1}\n",
            "}\n",
            "\n",
            "\n"
          ]
        }
      ]
    },
    {
      "cell_type": "markdown",
      "source": [
        "# Lets go back up to our model example!"
      ],
      "metadata": {
        "id": "jlTtcSVnIp57"
      }
    },
    {
      "cell_type": "code",
      "source": [],
      "metadata": {
        "id": "dvQilEFVH2uu"
      },
      "execution_count": null,
      "outputs": []
    },
    {
      "cell_type": "code",
      "source": [],
      "metadata": {
        "id": "fUcjf_8W8EE8"
      },
      "execution_count": null,
      "outputs": []
    },
    {
      "cell_type": "code",
      "source": [],
      "metadata": {
        "id": "cYLCJp1X8EDL"
      },
      "execution_count": null,
      "outputs": []
    },
    {
      "cell_type": "code",
      "source": [],
      "metadata": {
        "id": "wTcxc5aw8EBR"
      },
      "execution_count": null,
      "outputs": []
    },
    {
      "cell_type": "code",
      "source": [],
      "metadata": {
        "id": "3lOWU8TX8D_M"
      },
      "execution_count": null,
      "outputs": []
    },
    {
      "cell_type": "code",
      "source": [],
      "metadata": {
        "id": "NncobXPC8D9G"
      },
      "execution_count": null,
      "outputs": []
    },
    {
      "cell_type": "code",
      "source": [],
      "metadata": {
        "id": "wOa73A8L8D7D"
      },
      "execution_count": null,
      "outputs": []
    },
    {
      "cell_type": "code",
      "source": [],
      "metadata": {
        "id": "v6EiJIMQ8D48"
      },
      "execution_count": null,
      "outputs": []
    },
    {
      "cell_type": "code",
      "source": [],
      "metadata": {
        "id": "S4iE36mr8D23"
      },
      "execution_count": null,
      "outputs": []
    },
    {
      "cell_type": "code",
      "source": [],
      "metadata": {
        "id": "m2MYqH7z8D0w"
      },
      "execution_count": null,
      "outputs": []
    },
    {
      "cell_type": "code",
      "source": [],
      "metadata": {
        "id": "0rmGBTt48DwW"
      },
      "execution_count": null,
      "outputs": []
    },
    {
      "cell_type": "code",
      "source": [],
      "metadata": {
        "id": "y7ZVvJOv8Duh"
      },
      "execution_count": null,
      "outputs": []
    },
    {
      "cell_type": "code",
      "source": [],
      "metadata": {
        "id": "wjNM6vwb8Dsa"
      },
      "execution_count": null,
      "outputs": []
    },
    {
      "cell_type": "code",
      "source": [],
      "metadata": {
        "id": "CjDG2Fd-BUNq"
      },
      "execution_count": null,
      "outputs": []
    }
  ]
}